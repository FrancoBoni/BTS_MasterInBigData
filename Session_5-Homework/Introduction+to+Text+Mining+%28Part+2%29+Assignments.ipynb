{
 "cells": [
  {
   "cell_type": "code",
   "execution_count": 59,
   "metadata": {
    "collapsed": true
   },
   "outputs": [],
   "source": [
    "import csv\n",
    "from nltk import word_tokenize, pos_tag, ne_chunk\n",
    "from nltk import *\n",
    "from nltk.corpus import stopwords"
   ]
  },
  {
   "cell_type": "code",
   "execution_count": 2,
   "metadata": {
    "collapsed": true
   },
   "outputs": [],
   "source": [
    "with open('Desktop/Bob Marley/One love.txt', 'r') as myfile:\n",
    "          onelove=myfile.read().replace('\\n', ' ')\n",
    "with open('Desktop/Bob Marley/Be happy.txt', 'r') as myfile:\n",
    "          behappy=myfile.read().replace('\\n', ' ')\n",
    "with open('Desktop/Bob Marley/Buffalo Soldier.txt', 'r') as myfile:\n",
    "          buffalosoldier=myfile.read().replace('\\n', ' ')\n",
    "with open('Desktop/Bob Marley/Could you be loved.txt', 'r') as myfile:\n",
    "          couldyoubeloved=myfile.read().replace('\\n', ' ')\n",
    "with open('Desktop/Bob Marley/Get up.txt', 'r') as myfile:\n",
    "          getup=myfile.read().replace('\\n', ' ')\n",
    "with open('Desktop/Bob Marley/Is this love.txt', 'r') as myfile:\n",
    "          isthislove=myfile.read().replace('\\n', ' ')\n",
    "with open('Desktop/Bob Marley/Jammin.txt', 'r') as myfile:\n",
    "          jammin=myfile.read().replace('\\n', ' ')\n",
    "with open('Desktop/Bob Marley/Kaya.txt', 'r') as myfile:\n",
    "          kaya=myfile.read().replace('\\n', ' ')\n",
    "with open('Desktop/Bob Marley/No woman no cry.txt', 'r') as myfile:\n",
    "          nowomannocry=myfile.read().replace('\\n', ' ')\n",
    "with open('Desktop/Bob Marley/Stir it up.txt', 'r') as myfile:\n",
    "          stiritup=myfile.read().replace('\\n', ' ')"
   ]
  },
  {
   "cell_type": "code",
   "execution_count": 3,
   "metadata": {
    "collapsed": true
   },
   "outputs": [
    {
     "name": "stdout",
     "output_type": "stream",
     "text": [
      "['One', 'love', ',', 'one', 'heart', 'Let', \"'s\", 'get', 'together', 'feel', 'right', 'Hear', 'children', 'crying', '(', 'One', 'love', ')', 'Hear', 'children', 'crying', '(', 'One', 'heart', ')', 'Sayin', \"'\", ',', 'Give', 'thanks', 'praise', 'Lord', 'I', 'feel', 'right', 'Sayin', \"'\", ',', 'Let', \"'s\", 'get', 'together', 'feel', 'right', 'Whoa', ',', 'whoa', ',', 'whoa', ',', 'whoaLet', 'pass', 'dirty', 'remarks', '(', 'One', 'love', ')', 'There', 'one', 'question', 'I', \"'d\", 'really', 'love', 'ask', '(', 'One', 'heart', ')', 'Is', 'place', 'hopeless', 'sinner', 'Who', 'hurt', 'mankind', 'save', '?', 'Believe', 'One', 'love', ',', 'one', 'heart', 'Let', \"'s\", 'get', 'together', 'feel', 'right', 'As', 'beginning', '(', 'One', 'love', ')', 'So', 'shall', 'end', '(', 'One', 'heart', ')', 'Alright', ',', 'Give', 'thanks', 'praise', 'Lord', 'I', 'feel', 'right', 'Let', \"'s\", 'get', 'together', 'feel', 'right', 'One', 'thing', 'Let', \"'s\", 'get', 'together', 'fight', 'Holy', 'Armageddon', '(', 'One', 'love', ')', 'So', 'Man', 'comes', ',', 'doom', '(', 'One', 'song', ')', 'Have', 'pity', 'whose', 'chances', 'grow', 'thinner', 'There', 'ai', \"n't\", 'hiding', 'place', 'Father', 'Creation', 'Sayin', \"'\", ',', 'One', 'love', ',', 'one', 'heart', 'Let', \"'s\", 'get', 'together', 'feel', 'right', 'I', \"'m\", 'pleading', 'mankind', '(', 'One', 'love', ')', 'Oh', ',', 'Lord', '(', 'One', 'heart', ')', 'Whoa', 'Give', 'thanks', 'praise', 'Lord', 'I', 'feel', 'right', 'Let', \"'s\", 'get', 'together', 'feel', 'right', 'Give', 'thanks', 'praise', 'Lord', 'I', 'feel', 'right', 'Let', \"'s\", 'get', 'together', 'feel', 'right']\n"
     ]
    }
   ],
   "source": [
    "onelove_tokenized = word_tokenize(onelove)\n",
    "onelove_clean = [w for w in onelove_tokenized if w not in stopwords.words('english')]\n",
    "print(onelove_clean)"
   ]
  },
  {
   "cell_type": "code",
   "execution_count": 4,
   "metadata": {
    "collapsed": true
   },
   "outputs": [
    {
     "name": "stdout",
     "output_type": "stream",
     "text": [
      "['Here', 'little', 'song', 'I', 'wrote', 'You', 'might', 'want', 'sing', 'note', 'note', 'Do', \"n't\", 'worry', 'happy', 'In', 'every', 'life', 'trouble', 'When', 'worry', 'make', 'double', 'Do', \"n't\", 'worry', ',', 'happy', 'Ai', \"n't\", 'got', 'place', 'lay', 'head', 'Somebody', 'came', 'took', 'bed', 'Do', \"n't\", 'worry', ',', 'happy', 'The', 'land', 'lord', 'say', 'rent', 'late', 'He', 'may', 'litigate', 'Do', \"n't\", 'worry', ',', 'happy', 'Look', 'I', 'happy', 'Do', \"n't\", 'worry', ',', 'happy', 'Here', 'I', 'give', 'phone', 'number', 'When', 'worry', 'call', 'I', 'make', 'happy', 'Do', \"n't\", 'worry', ',', 'happy', 'Ai', \"n't\", 'got', 'cash', ',', 'ai', \"n't\", 'got', 'style', 'Ai', \"n't\", 'got', 'girl', 'make', 'smile', 'But', \"n't\", 'worry', 'happy', 'Cause', 'worry', 'Your', 'face', 'frown', 'And', 'bring', 'everybody', 'So', \"n't\", 'worry', ',', 'happy', '(', ')', 'There', 'little', 'song', 'I', 'wrote', 'I', 'hope', 'learn', 'note', 'note', 'Like', 'good', 'little', 'children', 'Do', \"n't\", 'worry', ',', 'happy', 'Listen', 'I', 'say', 'In', 'life', 'expect', 'trouble', 'But', 'worry', 'You', 'make', 'double', 'Do', \"n't\", 'worry', ',', 'happy', 'Do', \"n't\", 'worry', \"n't\", ',', 'happy', 'Put', 'smile', 'face', 'Do', \"n't\", 'bring', 'everybody', 'like', 'Do', \"n't\", 'worry', ',', 'soon', 'pass', 'Whatever', 'Do', \"n't\", 'worry', ',', 'happy']\n"
     ]
    }
   ],
   "source": [
    "behappy_tokenized = word_tokenize(behappy)\n",
    "behappy_clean = [w for w in behappy_tokenized if w not in stopwords.words('english')]\n",
    "print(behappy_clean)"
   ]
  },
  {
   "cell_type": "code",
   "execution_count": 5,
   "metadata": {
    "collapsed": true
   },
   "outputs": [
    {
     "name": "stdout",
     "output_type": "stream",
     "text": [
      "['Buffalo', 'Soldier', ',', 'dreadlock', 'Rasta', 'It', 'Buffalo', 'Soldier', 'heart', 'America', 'Stolen', 'Africa', ',', 'brought', 'America', 'Fighting', 'arrival', ',', 'fighting', 'survival', 'If', 'know', 'history', 'Then', 'would', 'know', \"'re\", 'coming', 'Then', 'would', \"n't\", 'ask', 'Who', 'heck', 'I', 'think', 'I', 'I', \"'m\", 'Buffalo', 'Soldier', 'heart', 'America', 'Stolen', 'Africa', ',', 'brought', 'America', 'Said', 'fighting', 'arrival', ',', 'fighting', 'survival', 'Said', 'Buffalo', 'Soldier', 'war', 'America', 'Said', 'Woe-yoe-yoe', ',', 'woe-yoe-yoe-yoe', 'Woe-yoe-yoe-yoe-yoe-yoe-yoe-yoe', 'Woe-yoe-yoe', ',', 'woe-yoe-yoe-yoe', 'Woe-yoe-yoe-yoe-yoe-yoe-yoe-yoe', 'Troddin', \"'\", 'land', ',', 'oh', 'Said', 'would', \"'ve\", 'ran', 'make', 'want', 'hang', 'Troddin', \"'\", 'land', ',', 'yeah', 'Said', 'Buffalo', 'Soldier', 'war', 'America', 'Buffalo', 'Soldier', ',', 'dreadlock', 'Rasta', 'Fighting', 'arrival', ',', 'fighting', 'survival', 'Driven', 'main', 'land', 'heart', 'Caribbean', 'Sing', 'Woe-yoe-yoe', ',', 'woe-yoe-yoe-yoe', 'Woe-yoe-yoe-yoe-yoe-yoe-yoe-yoe', 'Woe-yoe-yoe', ',', 'woe-yoe-yoe-yoe', 'Woe-yoe-yoe-yoe-yoe-yoe-yoe-yoe', 'Trodding', 'San', 'Juan', ',', 'arms', 'America', 'Trodding', 'Jamaica', ',', 'Buffalo', 'Soldier', 'Fighting', 'arrival', ',', 'fighting', 'survival', 'Buffalo', 'Soldier', ',', 'dreadlock', 'Rasta', 'Woe-yoe-yoe', ',', 'woe-yoe-yoe-yoe', 'Woe-yoe-yoe-yoe-yoe-yoe-yoe-yoe', 'Woe-yoe-yoe', ',', 'woe-yoe-yoe-yoe', 'Woe-yoe-yoe-yoe-yoe-yoe-yoe-yoe']\n"
     ]
    }
   ],
   "source": [
    "buffalosoldier_tokenized = word_tokenize(buffalosoldier)\n",
    "buffalosoldier_clean = [w for w in buffalosoldier_tokenized if w not in stopwords.words('english')]\n",
    "print(buffalosoldier_clean)"
   ]
  },
  {
   "cell_type": "code",
   "execution_count": 6,
   "metadata": {
    "collapsed": true
   },
   "outputs": [
    {
     "name": "stdout",
     "output_type": "stream",
     "text": [
      "['Could', 'loved', 'loved', '?', 'Could', 'loved', 'loved', '?', 'Do', \"n't\", 'let', 'fool', 'ya', 'Or', 'even', 'try', 'school', 'ya', '!', 'Oh', ',', '!', 'We', \"'ve\", 'got', 'mind', 'So', 'go', 'hell', \"'re\", 'thinking', 'right', '!', 'Love', 'would', 'never', 'leave', 'us', 'alone', 'Ay', ',', 'darkness', 'must', 'come', 'light', 'Could', 'loved', 'loved', '?', 'Could', 'loved', ',', 'wo', '!', '-', 'loved', '?', '(', 'The', 'road', 'life', 'rocky', 'may', 'stumble', ')', '(', 'So', 'point', 'fingers', 'someone', 'else', 'judging', ')', 'Love', 'brotherman', '!', '(', 'Could', '-', 'could', '-', 'could', 'loved', '?', ')', '(', 'Could', '-', 'could', 'loved', '?', ')', '(', 'Could', '-', 'could', '-', 'could', 'loved', '?', ')', '(', 'Could', '-', 'could', 'loved', '?', ')', 'Do', \"n't\", 'let', 'change', 'ya', ',', 'oh', '!', 'Or', 'even', 'rearrange', 'ya', '!', 'Oh', ',', '!', 'We', \"'ve\", 'got', 'life', 'live', 'They', 'say', ':', '-', 'Only', 'fittest', 'fittest', 'shall', 'survive', 'Stay', 'alive', '!', 'Eh', '!', 'Could', 'loved', 'loved', '?', 'Could', 'loved', ',', 'wo', '!', '-', 'loved', '?', '(', 'You', 'ai', \"n't\", 'gon', 'na', 'miss', 'water', 'well', 'runs', 'dry', ')', '(', 'No', 'matter', 'treat', ',', 'man', 'never', 'satisfied', '.', ')', 'Say', 'something', '!', '(', 'Could', '-', 'could', '-', 'could', 'loved', '?', ')', '(', 'Could', '-', 'could', 'loved', '?', ')', 'Say', 'something', '!', 'Say', 'something', '!', '(', 'Could', '-', 'could', '-', 'could', 'loved', '?', ')', 'Say', 'something', '!', '(', 'Could', '-', 'could', 'loved', '?', ')', 'Say', 'something', '!', 'Say', 'something', '!', '(', 'Say', 'something', '!', ')', 'Say', 'something', '!', 'Say', 'something', '!', '(', 'Could', 'loved', '?', ')', 'Say', 'something', '!', 'Say', 'something', '!', 'Reggae', ',', 'reggae', '!', 'Say', 'something', '!', 'Rockers', ',', 'rockers', '!', 'Say', 'something', '!', 'Reggae', ',', 'reggae', '!', 'Say', 'something', '!', 'Rockers', ',', 'rockers', '!', 'Say', 'something', '!', '(', 'Could', 'loved', '?', ')', 'Say', 'something', '!', 'Uh', '!', 'Say', 'something', '!', 'Come', '!', 'Say', 'something', '!', '(', 'Could', '-', 'could', '-', 'could', 'loved', '?', ')', 'Say', 'something', '!', '(', 'Could', '-', 'could', 'loved', '?', ')', 'Say', 'something', '!', '(', 'Could', '-', 'could', '-', 'could', 'loved', '?', ')', 'Say', 'something', '!', '(', 'Could', '-', 'could', 'loved', '?', ')']\n"
     ]
    }
   ],
   "source": [
    "couldyoubeloved_tokenized = word_tokenize(couldyoubeloved)\n",
    "couldyoubeloved_clean = [w for w in couldyoubeloved_tokenized if w not in stopwords.words('english')]\n",
    "print(couldyoubeloved_clean)"
   ]
  },
  {
   "cell_type": "code",
   "execution_count": 7,
   "metadata": {
    "collapsed": true
   },
   "outputs": [
    {
     "name": "stdout",
     "output_type": "stream",
     "text": [
      "['Get', ',', 'stand', ':', 'stand', 'right', 'Get', ',', 'stand', ':', 'stand', 'right', 'Get', ',', 'stand', ':', 'stand', 'right', 'Get', ',', 'stand', ':', \"n't\", 'give', 'fight', 'Preacher', 'man', \"n't\", 'tell', 'Heaven', 'earth', 'I', 'know', \"n't\", 'know', 'What', 'life', 'really', 'worth', 'It', \"'s\", 'glitters', 'gold', 'Half', 'story', 'never', 'told', 'So', 'see', 'light', ',', 'eh', '!', 'You', 'stand', 'right', 'Come', '!', 'Get', ',', 'stand', ':', 'stand', 'right', 'Get', ',', 'stand', ':', \"n't\", 'give', 'fight', 'Get', ',', 'stand', ':', 'stand', 'right', 'Get', ',', 'stand', ':', \"n't\", 'give', 'fight', 'Most', 'people', 'think', 'Great', 'God', 'come', 'sky', 'Take', 'away', 'everything', 'And', 'make-a', 'everybody', 'feel', 'high', 'But', 'know', 'life', 'worth', 'You', 'look', 'earth', 'And', 'see', 'light', 'You', 'stand', 'rights', ',', 'jah', '!', 'Get', ',', 'stand', '(', 'Jah', ',', 'jah', ')', 'Stand', 'right', '(', 'Oh', ',', 'hoo', ')', 'Get', ',', 'stand', '(', 'Get', ',', 'stand', ')', 'Do', \"n't\", 'give', 'fight', '(', 'Life', 'right', ')', 'Get', ',', 'stand', '(', 'So', 'ca', \"n't\", 'give', 'fight', ')', 'Stand', 'right', '(', 'Lord', ',', 'Lord', ')', 'Get', ',', 'stand', '(', 'Keep', 'us', 'struggling', ')', 'Do', \"n't\", 'give', 'fight', ',', 'yeah', 'We', 'sick', \"'\", 'tired', 'ism-skism', 'game', 'Dyin', \"'\", \"'n\", \"'\", 'goin', \"'\", 'heaven', 'in-a', 'Jesus', \"'\", 'name', ',', 'Lord', 'We', 'know', 'understand', 'Almighty', 'God', 'living', 'man', 'You', 'fool', 'people', 'sometimes', 'But', 'ca', \"n't\", 'fool', 'people', 'time', 'So', 'see', 'light', '(', 'What', 'gon', 'na', '?', ')', 'We', 'gon', 'na', 'stand', 'rights', '(', 'Yeah', ',', 'jah', ',', 'jah', '!', ')', 'So', 'better', 'Get', ',', 'stand', '(', 'In', 'morning', ',', 'get', ')', 'Stand', 'right', '(', 'In', 'night', ')', 'Get', ',', 'stand', 'Do', \"n't\", 'give', 'fight', '(', 'Do', \"n't\", 'give', ',', \"n't\", 'give', ')', 'Get', ',', 'stand', '(', 'Get', ',', 'stand', ')', 'Stand', 'right', '(', 'Get', ',', 'stand', ')', 'Get', ',', 'stand', '(', 'Do', \"n't\", 'nigger', 'neighborhood', ',', 'yeah', ')', 'Do', \"n't\", 'give', 'fight', '(', 'Get', ',', 'stand', ')', 'Get', ',', 'stand', '(', 'I', \"n't\", 'think', 'good', ',', 'Lord', ')', '(', 'Get', ',', 'stand', ')', 'Stand', 'right', '(', 'Get', ',', 'stand', ')', 'Get', ',', 'stand', '(', 'I', 'said', ',', \"n't\", 'nigger', 'neighborhood', ',', 'yeah', ')', 'Do', \"n't\", 'give', 'fight']\n"
     ]
    }
   ],
   "source": [
    "getup_tokenized = word_tokenize(getup)\n",
    "getup_clean = [w for w in getup_tokenized if w not in stopwords.words('english')]\n",
    "print(getup_clean)"
   ]
  },
  {
   "cell_type": "code",
   "execution_count": 8,
   "metadata": {
    "collapsed": true
   },
   "outputs": [
    {
     "name": "stdout",
     "output_type": "stream",
     "text": [
      "['I', 'wan', 'na', 'love', 'treat', 'right', 'I', 'wan', 'na', 'love', 'every', 'day', 'every', 'night', ':', 'We', \"'ll\", 'together', 'roof', 'right', 'heads', 'We', \"'ll\", 'share', 'shelter', 'single', 'bed', 'We', \"'ll\", 'share', 'room', ',', 'yeah', '!', '-', 'Jah', 'provide', 'bread', '.', 'Is', 'love', '-', 'love', '-', 'love', '-', 'Is', 'love', 'I', \"'m\", 'feelin', \"'\", '?', 'Is', 'love', '-', 'love', '-', 'love', '-', 'Is', 'love', 'I', \"'m\", 'feelin', \"'\", '?', 'I', 'wan', 'na', 'know', '-', 'wan', 'na', 'know', '-', 'wan', 'na', 'know', '!', 'I', 'got', 'know', '-', 'got', 'know', '-', 'got', 'know', '!', 'I-I-I-I-I-I-I-I-I', '-', 'I', \"'m\", 'willing', 'able', 'So', 'I', 'throw', 'cards', 'table', '!', 'I', 'wan', 'na', 'love', '-', 'I', 'wan', 'na', 'love', 'treat', '-', 'love', 'treat', 'right', 'I', 'wan', 'na', 'love', 'every', 'day', 'every', 'night', ':', 'We', \"'ll\", 'together', ',', 'yeah', '!', '-', 'roof', 'right', 'heads', 'We', \"'ll\", 'share', 'shelter', ',', 'yeah', ',', 'oh', '!', '-', 'single', 'bed', 'We', \"'ll\", 'share', 'room', ',', 'yeah', '!', '-', 'Jah', 'provide', 'bread', '.', 'Is', 'love', '-', 'love', '-', 'love', '-', 'Is', 'love', 'I', \"'m\", 'feelin', \"'\", '?', 'Is', 'love', '-', 'love', '-', 'love', '-', 'Is', 'love', 'I', \"'m\", 'feelin', \"'\", '?', 'Wo-o-o-oah', '!', 'Oh', 'yes', ',', 'I', 'know', ';', 'yes', ',', 'I', 'know', '-', 'yes', ',', 'I', 'know', '!', 'Yes', ',', 'I', 'know', ';', 'yes', ',', 'I', 'know', '-', 'yes', ',', 'I', 'know', '!', 'I-I-I-I-I-I-I-I-I', '-', 'I', \"'m\", 'willing', 'able', 'So', 'I', 'throw', 'cards', 'table', '!', 'See', ':', 'I', 'wan', 'na', 'love', 'ya', ',', 'I', 'wan', 'na', 'love', 'treat', 'ya', '-', 'love', 'treat', 'ya', 'right', 'I', 'wan', 'na', 'love', 'every', 'day', 'every', 'night', ':', 'We', \"'ll\", 'together', ',', 'roof', 'right', 'heads', '!', 'We', \"'ll\", 'share', 'shelter', 'single', 'bed', 'We', \"'ll\", 'share', 'room', ',', 'yeah', '!', 'Jah', 'provide', 'bread', '.', 'We', \"'ll\", 'share', 'shelter', 'single', 'bed']\n"
     ]
    }
   ],
   "source": [
    "isthislove_tokenized = word_tokenize(isthislove)\n",
    "isthislove_clean = [w for w in isthislove_tokenized if w not in stopwords.words('english')]\n",
    "print(isthislove_clean)"
   ]
  },
  {
   "cell_type": "code",
   "execution_count": 9,
   "metadata": {
    "collapsed": true
   },
   "outputs": [
    {
     "name": "stdout",
     "output_type": "stream",
     "text": [
      "['Oh', ',', 'yeah', 'Well', ',', 'alright', 'We', \"'re\", 'jammin', \"'\", 'Sing', ',', 'I', 'want', 'jam', 'We', \"'re\", 'jammin', \"'\", ',', \"'re\", 'jammin', \"'\", 'And', 'I', 'hope', 'like', 'jammin', \"'\", 'Ai', \"n't\", 'rules', ',', 'ai', \"n't\", 'vow', 'You', 'anyhow', \"'Cause\", 'I', 'I', 'see', 'But', 'every', 'day', 'pay', 'price', 'Come', 'little', 'sacrifice', 'Jammin', \"'\", 'till', 'jam', 'Ooh', 'yeah', ',', \"'re\", 'jammin', \"'\", ',', 'hey', 'To', 'think', 'jammin', \"'\", 'thing', 'past', 'We', \"'re\", 'jammin', \"'\", ',', \"'re\", 'jammin', \"'\", 'And', 'I', 'hope', 'jam', 'gon', 'na', 'last', 'No', 'bullet', 'stop', 'us', ',', 'neither', 'beg', 'wo', \"n't\", 'bow', 'Neither', 'bought', 'sold', 'We', 'defend', 'right', ',', 'Jah-Jah', 'children', 'must', 'unite', \"'Cause\", 'life', 'worth', 'much', 'gold', 'Ooh', 'yeah', ',', \"'re\", 'jammin', \"'\", 'And', \"'re\", 'jammin', \"'\", 'name', 'Lord', 'We', \"'re\", 'jammin', \"'\", ',', \"'re\", 'jammin', \"'\", 'And', \"'re\", 'jammin', \"'\", 'right', 'straight', 'yard', 'Yeah', '!']\n"
     ]
    }
   ],
   "source": [
    "jammin_tokenized = word_tokenize(jammin)\n",
    "behappy_clean = [w for w in jammin_tokenized if w not in stopwords.words('english')]\n",
    "print(behappy_clean)"
   ]
  },
  {
   "cell_type": "code",
   "execution_count": 10,
   "metadata": {
    "collapsed": true
   },
   "outputs": [
    {
     "name": "stdout",
     "output_type": "stream",
     "text": [
      "['Wake', 'Wake', 'Wake', 'turn', 'I', 'loose', 'Wake', 'turn', 'I', 'loose', 'Wake', 'turn', 'I', 'loose', 'For', 'rain', 'falling', 'Got', 'kaya', 'Got', 'kaya', 'Got', 'kaya', 'For', 'rain', 'falling', 'I', \"'m\", 'high', ',', 'I', 'even', 'touch', 'sky', 'Above', 'falling', 'rain', 'I', 'feel', 'good', 'neighborhood', ',', 'Here', 'I', 'come', 'Got', 'kaya', 'Got', 'kaya', 'Got', 'kaya', 'For', 'rain', 'falling', 'Feelin', \"'\", 'irie', 'I', 'Feelin', \"'\", 'irie', 'I', 'Feelin', \"'\", 'irie', 'I', \"'Cause\", 'I', 'kaya', 'I', 'feel', 'high', ',', 'I', 'even', 'touch', 'sky', 'Above', 'falling', 'rain', 'I', 'feel', 'good', 'neighbourhood', ',', 'Here', 'I', 'come', 'Got', 'kaya', 'Got', 'kaya', 'Got', 'kaya', ',', 'Lord', 'For', 'rain', 'falling', '(', 'Kaya', ',', 'kaya', ',', 'kaya', ')', 'Huh']\n"
     ]
    }
   ],
   "source": [
    "kaya_tokenized = word_tokenize(kaya)\n",
    "kaya_clean = [w for w in kaya_tokenized if w not in stopwords.words('english')]\n",
    "print(kaya_clean)"
   ]
  },
  {
   "cell_type": "code",
   "execution_count": 11,
   "metadata": {
    "collapsed": true
   },
   "outputs": [
    {
     "name": "stdout",
     "output_type": "stream",
     "text": [
      "['No', ',', 'woman', 'cry', 'No', ',', 'woman', 'cry', 'No', ',', 'woman', 'cry', 'No', ',', 'woman', 'cry', 'Said', ',', 'said', ',', 'said', 'I', 'remember', 'used', 'sit', 'In', 'government', 'yard', 'Trenchtown', 'Ob-observing', 'hypocrites', 'As', 'would', 'mingle', 'good', 'people', 'meet', '(', 'meet', ')', 'Good', 'friends', ',', 'oh', ',', 'good', 'friends', \"'ve\", 'lost', 'Along', 'way', '(', 'way', ')', 'In', 'great', 'future', ',', 'ca', \"n't\", 'forget', 'past', 'So', 'dry', 'tears', ',', 'I', 'say', 'And', ',', 'woman', ',', 'cry', 'No', ',', 'woman', ',', 'cry', 'Dear', ',', 'little', 'darlin', \"'\", ',', \"n't\", 'shed', 'tears', 'No', ',', 'woman', ',', 'cry', 'Said', ',', 'said', ',', 'said', 'I', 'remember', 'used', 'sit', 'In', 'government', 'yard', 'Trenchtown', 'And', 'Georgie', 'would', 'make', 'fire', 'light', 'As', 'logwood', 'burnin', \"'\", 'night', '(', 'night', ')', 'Then', 'would', 'cook', 'cornmeal', 'porridge', 'Of', 'I', \"'ll\", 'share', '(', 'ooh', ')', 'My', 'feet', 'carriage', 'So', 'I', \"'ve\", 'got', 'push', 'But', 'I', \"'m\", 'gone', ',', 'I', 'mean', 'Everything', \"'s\", 'gon', 'na', 'right', 'Everything', \"'s\", 'gon', 'na', 'right', 'Everything', \"'s\", 'gon', 'na', 'right', 'Everything', \"'s\", 'gon', 'na', 'right', 'Everything', \"'s\", 'gon', 'na', 'right', 'Everything', \"'s\", 'gon', 'na', 'right', 'Everything', \"'s\", 'gon', 'na', 'right', ',', 'yeah', 'Everything', \"'s\", 'gon', 'na', 'right', 'No', ',', 'woman', ',', 'cry', 'Oh', ',', ',', '(', ',', 'woman', 'cry', ')', 'Woman', ',', 'little', 'sister', ',', \"n't\", 'shed', 'tears', 'No', ',', 'woman', ',', 'cry', 'I', 'remember', 'used', 'sit', 'In', 'government', 'yard', 'Trenchtown', 'And', 'Georgie', 'would', 'make', 'fire', 'light', 'As', 'logwood', 'burnin', \"'\", 'night', 'Then', 'would', 'cook', 'cornmeal', 'porridge', 'Of', 'I', \"'ll\", 'share', 'My', 'feet', 'carriage', 'So', 'I', \"'ve\", 'got', 'push', 'But', 'I', \"'m\", 'gone', 'No', ',', 'woman', ',', 'cry', 'No', ',', 'woman', ',', 'cry', 'Woman', ',', 'little', 'darlin', \"'\", ',', 'sayin', \"'\", \"n't\", 'shed', 'tears', 'No', ',', 'woman', ',', 'cry', 'Hey', ',', 'little', 'darlin', \"'\", ',', \"n't\", 'shed', 'tears', 'No', ',', 'woman', ',', 'cry', 'Now', ',', 'little', 'sister', ',', \"n't\", 'shed', 'tears', 'No', ',', 'woman', 'cry']\n"
     ]
    }
   ],
   "source": [
    "nowomannocry_tokenized = word_tokenize(nowomannocry)\n",
    "nowomannocry_clean = [w for w in nowomannocry_tokenized if w not in stopwords.words('english')]\n",
    "print(nowomannocry_clean)"
   ]
  },
  {
   "cell_type": "code",
   "execution_count": 12,
   "metadata": {
    "collapsed": true
   },
   "outputs": [
    {
     "name": "stdout",
     "output_type": "stream",
     "text": [
      "['Stir', ',', 'little', 'darling', ',', 'stir', 'Come', ',', 'baby', ',', 'come', 'stir', ',', 'little', 'darling', ',', 'stir', 'It', \"'s\", 'long', ',', 'long', 'time', 'Since', 'I', \"'ve\", 'got', 'mind', 'And', 'I', 'say', ',', \"'s\", 'clear', 'To', 'see', ',', 'honey', ',', 'Come', 'stir', ',', 'little', 'darling', ',', 'stir', 'Come', 'baby', ',', 'come', 'stir', ',', 'little', 'darling', ',', 'stir', 'I', \"'ll\", 'push', 'wood', 'I', \"'ll\", 'blaze', 'fire', 'Then', 'I', \"'ll\", 'satisfy', 'heart', \"'s\", 'desire', 'Said', 'I', \"'ll\", 'stir', ',', 'yeah', ',', 'every', 'minute', ',', 'yeah', 'All', 'got', 'keep', ',', 'baby', 'And', 'stir', ',', 'little', 'darling', ',', 'stir', 'Come', 'stir', ',', 'ooh', ',', 'little', 'darling', ',', 'stir', ',', 'yeah', 'Oh', ',', 'quench', 'I', \"'m\", 'thirsty', '?', 'Come', 'cool', 'I', \"'m\", 'hot', '?', 'Your', 'recipe', ',', 'darling', ',', 'tasty', 'And', 'sure', 'stir', 'pot', 'So', 'stir', ',', 'little', 'darling', ',', 'stir', 'Come', 'stir', ',', 'ooh', ',', 'little', 'darling', ',', 'stir', 'Come', 'stir', ',', 'oh', ',', 'little', 'darling', ',', 'stir', 'Little', 'darling', ',', 'stir', 'Come', 'stir', ',', 'little', 'darling', ',', 'stir']\n"
     ]
    }
   ],
   "source": [
    "stiritup_tokenized = word_tokenize(stiritup)\n",
    "stiritup_clean = [w for w in stiritup_tokenized if w not in stopwords.words('english')]\n",
    "print(stiritup_clean)"
   ]
  },
  {
   "cell_type": "code",
   "execution_count": 100,
   "metadata": {},
   "outputs": [],
   "source": [
    "all_songs = [stiritup,nowomannocry, kaya, behappy, isthislove, getup, couldyoubeloved, buffalosoldier, behappy, onelove]"
   ]
  },
  {
   "cell_type": "code",
   "execution_count": 89,
   "metadata": {},
   "outputs": [
    {
     "name": "stdout",
     "output_type": "stream",
     "text": [
      "(S\n",
      "  Stir it up, little darling, stir it up Come on, baby, come on and stir it up, little darling, stir it up It's been a long, long time Since I've got you on my mind And now you are here I say, it's so clear To see what we can do, honey, just me and you Come on and stir it up, little darling, stir it up Come on baby, come on and stir it up, little darling, stir it up I'll push the wood I'll blaze your fire Then I'll satisfy your heart's desire Said I'll stir it, yeah, every minute, yeah All you got to do is keep it in, baby And stir it up, little darling, stir it up Come on and stir it up, ooh, little darling, stir it up, yeah Oh, will you quench me while I'm thirsty? Come and cool me down when I'm hot? Your recipe, darling, is so tasty And you sure can stir your pot So stir it up, little darling, stir it up Come on and stir it up, ooh, little darling, stir it up Come on and stir it up, oh, little darling, stir it up Little darling, stir it up Come on and stir it up, little darling, stir it up  \n",
      "  No, woman no cry No, woman no cry No, woman no cry No, woman no cry Said, said, said I remember when we used to sit In the government yard in Trenchtown Ob-observing the hypocrites As they would mingle with the good people we meet (meet) Good friends we have, oh, good friends we've lost Along the way (way) In this great future, you can't forget your past So dry your tears, I say And no, woman, no cry No, woman, no cry Dear, little darlin', don't shed no tears No, woman, no cry Said, said, said I remember when we used to sit In the government yard in Trenchtown And then Georgie would make the fire light As it was logwood burnin' through the night (night) Then we would cook cornmeal porridge Of which I'll share with you (ooh) My feet is my only carriage So I've got to push on through But while I'm gone, I mean Everything's gonna be all right Everything's gonna be all right Everything's gonna be all right Everything's gonna be all right Everything's gonna be all right Everything's gonna be all right Everything's gonna be all right, yeah Everything's gonna be all right No, woman, no cry Oh, no, no (no, woman no cry) Woman, little sister, don't shed no tears No, woman, no cry I remember when we used to sit In the government yard in Trenchtown And then Georgie would make the fire light As it was logwood burnin' through the night Then we would cook cornmeal porridge Of which I'll share with you My feet is my only carriage So I've got to push on through But while I'm gone No, woman, no cry No, woman, no cry Woman, little darlin', sayin' don't shed no tears No, woman, no cry Hey, little darlin', don't shed no tears No, woman, no cry Now, little sister, don't shed no tears No, woman no cry \n",
      "  Wake up and Wake up and Wake up and turn I loose Wake up and turn I loose Wake up and turn I loose For the rain is falling Got to have kaya now Got to have kaya now Got to have kaya now For the rain is falling I'm so high, I even touch the sky Above the falling rain I feel so good in my neighborhood, so Here I come again Got to have kaya now Got to have kaya now Got to have kaya now For the rain is falling Feelin' irie I Feelin' irie I Feelin' irie I 'Cause I have some kaya now I feel so high, I even touch the sky Above the falling rain I feel so good in my neighbourhood, so Here I come again Got to have kaya now Got to have kaya now Got to have kaya now, Lord For the rain is falling (Kaya now, kaya, kaya) Huh  \n",
      "  Here is a little song I wrote You might want to sing it note for note Don't worry be happy In every life we have some trouble When you worry you make it double Don't worry, be happy Ain't got no place to lay your head Somebody came and took your bed Don't worry, be happy The land lord say your rent is late He may have to litigate Don't worry, be happy Look at me I am happy Don't worry, be happy Here I give you my phone number When you worry call me I make you happy Don't worry, be happy Ain't got no cash, ain't got no style Ain't got no girl to make you smile But don't worry be happy Cause when you worry Your face will frown And that will bring everybody down So don't worry, be happy (now) There is this little song I wrote I hope you learn it note for note Like good little children Don't worry, be happy Listen to what I say In your life expect some trouble But when you worry You make it double Don't worry, be happy Don't worry don't do it, be happy Put a smile on your face Don't bring everybody down like this Don't worry, it will soon pass Whatever it is Don't worry, be happy\n",
      "  I wanna love you and treat you right I wanna love you every day and every night: We'll be together with a roof right over our heads We'll share the shelter of my single bed We'll share the same room, yeah! - for Jah provide the bread. Is this love - is this love - is this love - Is this love that I'm feelin'? Is this love - is this love - is this love - Is this love that I'm feelin'? I wanna know - wanna know - wanna know now! I got to know - got to know - got to know now! I-I-I-I-I-I-I-I-I - I'm willing and able So I throw my cards on your table! I wanna love you - I wanna love and treat - love and treat you right I wanna love you every day and every night: We'll be together, yeah! - with a roof right over our heads We'll share the shelter, yeah, oh now! - of my single bed We'll share the same room, yeah! - for Jah provide the bread. Is this love - is this love - is this love - Is this love that I'm feelin'? Is this love - is this love - is this love - Is this love that I'm feelin'? Wo-o-o-oah! Oh yes, I know; yes, I know - yes, I know now! Yes, I know; yes, I know - yes, I know now! I-I-I-I-I-I-I-I-I - I'm willing and able So I throw my cards on your table! See: I wanna love ya, I wanna love and treat ya - love and treat ya right I wanna love you every day and every night: We'll be together, with a roof right over our heads! We'll share the shelter of my single bed We'll share the same room, yeah! Jah provide the bread. We'll share the shelter of my single bed    \n",
      "  Get up, stand up: stand up for your right Get up, stand up: stand up for your right Get up, stand up: stand up for your right Get up, stand up: don't give up the fight Preacher man don't tell me Heaven is under the earth I know you don't know What life is really worth It's not all that glitters is gold Half the story has never been told So now you see the light, eh! You stand up for your right Come on! Get up, stand up: stand up for your right Get up, stand up: don't give up the fight Get up, stand up: stand up for your right Get up, stand up: don't give up the fight Most people think Great God will come from the sky Take away everything And make-a everybody feel high But if you know what life is worth You will look for yours on earth And now you see the light You stand up for your rights, jah! Get up, stand up (Jah, jah) Stand up for your right (Oh, hoo) Get up, stand up (Get up, stand up) Don't give up the fight (Life is your right) Get up, stand up (So we can't give up the fight) Stand up for your right (Lord, Lord) Get up, stand up (Keep us struggling on) Don't give up the fight, yeah We sick an' tired of your ism-skism game Dyin' 'n' goin' to heaven in-a Jesus' name, Lord We know when we understand Almighty God is a living man You can fool some people sometimes But you can't fool all the people all the time So now we see the light (What you gonna do?) We gonna stand up for our rights (Yeah, jah, jah!) So you better Get up, stand up (In the morning, get it up) Stand up for your right (In the night) Get up, stand up Don't give up the fight (Don't give it up, don't give it up) Get up, stand up (Get up, stand up) Stand up for your right (Get up, stand up) Get up, stand up (Don't be a nigger in your neighborhood, yeah) Don't give up the fight (Get up, stand up) Get up, stand up (I don't think that should be very good, Lord) (Get up, stand up) Stand up for your right (Get up, stand up) Get up, stand up (I said, don't be a nigger in your neighborhood, yeah) Don't give up the fight  \n",
      "  Could you be loved and be loved? Could you be loved and be loved? Don't let them fool ya Or even try to school ya! Oh, no! We've got a mind of our own So go to hell if what you're thinking is not right! Love would never leave us alone Ay, in the darkness there must come out to light Could you be loved and be loved? Could you be loved, wo now! - and be loved? (The road of life is rocky and you may stumble too) (So while you point your fingers someone else is judging you) Love your brotherman! (Could you be - could you be - could you be loved?) (Could you be - could you be loved?) (Could you be - could you be - could you be loved?) (Could you be - could you be loved?) Don't let them change ya, oh! Or even rearrange ya! Oh, no! We've got a life to live They say: only - only Only the fittest of the fittest shall survive Stay alive! Eh! Could you be loved and be loved? Could you be loved, wo now! - and be loved? (You ain't gonna miss your water until your well runs dry) (No matter how you treat him, the man will never be satisfied.) Say something! (Could you be - could you be - could you be loved?) (Could you be - could you be loved?) Say something! Say something! (Could you be - could you be - could you be loved?) Say something! (Could you be - could you be loved?) Say something! Say something! (Say something!) Say something! Say something! (Could you be loved?) Say something! Say something! Reggae, reggae! Say something! Rockers, rockers! Say something! Reggae, reggae! Say something! Rockers, rockers! Say something! (Could you be loved?) Say something! Uh! Say something! Come on! Say something! (Could you be - could you be - could you be loved?) Say something! (Could you be - could you be loved?) Say something! (Could you be - could you be - could you be loved?) Say something! (Could you be - could you be loved?)  \n",
      "  Buffalo Soldier, dreadlock Rasta It was a Buffalo Soldier in the heart of America Stolen from Africa, brought to America Fighting on arrival, fighting for survival If you know your history Then you would know where you're coming from Then you wouldn't have to ask me Who the heck do I think I am I'm just a Buffalo Soldier in the heart of America Stolen from Africa, brought to America Said he was fighting on arrival, fighting for survival Said he was a Buffalo Soldier in the war for America Said he Woe-yoe-yoe, woe-yoe-yoe-yoe Woe-yoe-yoe-yoe-yoe-yoe-yoe-yoe Woe-yoe-yoe, woe-yoe-yoe-yoe Woe-yoe-yoe-yoe-yoe-yoe-yoe-yoe Troddin' through the land, oh Said he would've ran and make him want to hang Troddin' through the land, yeah Said he was a Buffalo Soldier in the war for America Buffalo Soldier, dreadlock Rasta Fighting on arrival, fighting for survival Driven from the main land to the heart of the Caribbean Sing it Woe-yoe-yoe, woe-yoe-yoe-yoe Woe-yoe-yoe-yoe-yoe-yoe-yoe-yoe Woe-yoe-yoe, woe-yoe-yoe-yoe Woe-yoe-yoe-yoe-yoe-yoe-yoe-yoe Trodding through San Juan, in the arms of America Trodding through Jamaica, the Buffalo Soldier Fighting on arrival, fighting for survival Buffalo Soldier, dreadlock Rasta Woe-yoe-yoe, woe-yoe-yoe-yoe Woe-yoe-yoe-yoe-yoe-yoe-yoe-yoe Woe-yoe-yoe, woe-yoe-yoe-yoe Woe-yoe-yoe-yoe-yoe-yoe-yoe-yoe   \n",
      "  Here is a little song I wrote You might want to sing it note for note Don't worry be happy In every life we have some trouble When you worry you make it double Don't worry, be happy Ain't got no place to lay your head Somebody came and took your bed Don't worry, be happy The land lord say your rent is late He may have to litigate Don't worry, be happy Look at me I am happy Don't worry, be happy Here I give you my phone number When you worry call me I make you happy Don't worry, be happy Ain't got no cash, ain't got no style Ain't got no girl to make you smile But don't worry be happy Cause when you worry Your face will frown And that will bring everybody down So don't worry, be happy (now) There is this little song I wrote I hope you learn it note for note Like good little children Don't worry, be happy Listen to what I say In your life expect some trouble But when you worry You make it double Don't worry, be happy Don't worry don't do it, be happy Put a smile on your face Don't bring everybody down like this Don't worry, it will soon pass Whatever it is Don't worry, be happy\n",
      "  One love, one heart Let's get together and feel all right Hear the children crying (One love) Hear the children crying (One heart) Sayin', Give thanks and praise to the Lord and I will feel all right Sayin', Let's get together and feel all right Whoa, whoa, whoa, whoaLet them all pass all their dirty remarks (One love) There is one question I'd really love to ask (One heart) Is there a place for the hopeless sinner Who has hurt all mankind just to save his own? Believe me One love, one heart Let's get together and feel all right As it was in the beginning (One love) So shall it be in the end (One heart) Alright, Give thanks and praise to the Lord and I will feel all right Let's get together and feel all right One more thing Let's get together to fight this Holy Armageddon (One love) So when the Man comes there will be no, no doom (One song) Have pity on those whose chances grow thinner There ain't no hiding place from the Father of Creation Sayin', One love, one heart Let's get together and feel all right I'm pleading to mankind (One love) Oh, Lord (One heart) Whoa Give thanks and praise to the Lord and I will feel all right Let's get together and feel all right Give thanks and praise to the Lord and I will feel all right Let's get together and feel all right)\n"
     ]
    }
   ],
   "source": [
    "text_nertagged = ne_chunk(all_songs)\n",
    "print(text_nertagged)"
   ]
  },
  {
   "cell_type": "code",
   "execution_count": 99,
   "metadata": {},
   "outputs": [
    {
     "name": "stdout",
     "output_type": "stream",
     "text": [
      "{'every', 'cool', 'oh', 'fool', '!', 'might', 'Whoa', 'worry', 'Reggae', 'have', 'fittest', 'He', 'pot', 'hang', 'late', 'he', 'now', 'from', 'been', 'some', 'Father', 'mankind', 'satisfy', 'Your', 'shelter', 'until', 'hiding', 'table', 'Rasta', '?', 'cry', 'Jamaica', 'Almighty', 'let', 'It', 'cook', 'double', 'see', 'hurt', 'thing', 'Holy', 'think', 'bread', 'Do', 'feelin', 'share', 'when', 'lay', 'Put', 'girl', 'lost', 'government', 'the', 'very', 'high', 'right', 'All', \"'ll\", 'life', 'everybody', 'everything', 'ca', 'irie', 'heart', 'ooh', 'expect', 'heaven', 'them', 'used', 'down', 'Yes', 'Eh', 'Alright', 'Along', 'hopeless', 'make', 'give', 'rights', 'whoa', 'rearrange', 'quench', 'Armageddon', 'Come', 'your', 'One', 'Of', 'phone', 'their', 'they', 'eh', 'Now', 'Wake', 'thanks', 'game', 'Take', 'of', 'tired', 'Oh', 'room', 'make-a', 'Somebody', 'way', 'Creation', '(', 'like', 'minute', 'loved', 'judging', 'coming', 'falling', 'came', 'grow', 'Have', 'alive', 'pass', 'woe-yoe-yoe-yoe', 'Little', 'get', 'sick', 'Stay', 'If', 'comes', 'place', 'whoaLet', 'more', 'Who', 'leave', 'was', 'children', 'Ai', 'little', 'come', 'litigate', 'No', 'history', 'Stand', 'Stir', \"'s\", 'ask', ':', 'sister', 'Get', 'shall', 'no', 'dirty', 'end', 'frown', 'Then', ')', 'can', 'Woman', 'same', 'someone', 'bring', 'miss', \"'d\", 'that', 'light', 'took', 'hypocrites', 'Dyin', 'must', 'out', 'night', 'God', 'him', 'brought', 'time', 'good', 'rain', 'question', 'then', 'be', 'See', 'throw', 'lord', 'Sayin', 'Driven', 'want', 'Life', 'Since', 'friends', 'would', 'morning', 'learn', 'bed', 'away', 'feet', 'na', 'yes', 'me', \"n't\", 'hell', 'understand', 'meet', \"'m\", 'woman', 'man', 'those', 'through', 'neighborhood', 'runs', 'yours', 'Above', 'again', 'for', \"'Cause\", 'name', 'Half', 'mind', 'what', 'hope', 'Preacher', 'we', 'carriage', 'roof', 'soon', 'Hear', 'while', 'So', 'his', 'remember', 'I', 'You', 'may', 'Got', 'There', '.', 'cash', 'do', 'Yeah', 'Give', 'We', 'a', 'past', 'yeah', 'San', 'jah', 'fight', 'fighting', 'Keep', 'stir', 'in-a', 'Rockers', 'struggling', 'Dear', 'brotherman', 'war', 'road', 'keep', 'could', 'treat', 'up', 'well', 'mean', 'sky', 'gone', 'Man', 'clear', 'only', 'Feelin', 'cornmeal', 'living', 'ya', 'Let', ',', 'gon', 'push', 'smile', 'Cause', '-', 'tell', 'survival', 'sit', 'Everything', 'over', 'hoo', 'style', 'at', 'Fighting', 'In', 'just', 'blaze', 'shed', 'The', 'together', 'own', \"'re\", 'Georgie', 'main', 'cards', 'number', 'Huh', 'Juan', 'touch', 'fingers', 'ai', 'rockers', 'people', 'They', 'Sing', 'thinking', 'not', 'Heaven', 'call', 'if', 'story', 'Trodding', 'wood', 'chances', 'porridge', 'Could', 'matter', 'single', 'thirsty', 'is', 'one', 'Lord', 'My', 'earth', 'pleading', 'water', 'feel', 'live', 'Whatever', 'to', 'Good', 'us', 'Woe-yoe-yoe-yoe-yoe-yoe-yoe-yoe', 'yard', 'whose', 'loose', ';', 'this', 'recipe', 'able', 'too', 'Believe', 'willing', 'ran', 'Buffalo', 'an', 'got', 'how', 'Listen', \"'\", 'stumble', 'where', 'Like', 'reggae', 'sayin', 'forget', 'change', 'survive', 'you', 'save', 'sinner', 'ism-skism', 'sometimes', 'Soldier', 'hot', 'Great', 'future', 'neighbourhood', 'Wo-o-o-oah', 'tasty', 'rocky', 'Love', \"'ve\", 'under', 'And', 'Troddin', 'darlin', 'For', 'point', 'else', 'which', 'I-I-I-I-I-I-I-I-I', 'wan', 'trouble', 'said', 'my', 'nigger', 'better', 'honey', 'burnin', 'pity', 'America', 'Jah', 'wrote', 'stand', 'note', 'rent', 'Say', 'told', 'To', 'am', 'Most', 'baby', 'try', 'beginning', 'sure', 'love', 'so', 'Africa', 'on', 'But', 'doom', 'Stolen', 'and', 'song', 'arms', 'say', 'Kaya', 'kaya', 'dry', 'Look', 'even', 'face', 'arrival', 'remarks', 'provide', 'day', 'Hey', 'Jesus', 'wo', 'gold', 'has', 'Uh', 'mingle', 'Caribbean', 'Is', 'Only', 'alone', 'Here', 'here', 'praise', 'sing', 'turn', 'in', 'Trenchtown', 'long', 'thinner', 'Woe-yoe-yoe', 'head', 'darling', 'As', 'there', 'never', 'worth', 'goin', 'Or', 'should', 'heck', 'look', 'Ay', 'satisfied', 'land', 'heads', 'dreadlock', 'happy', 'glitters', 'something', 'logwood', 'school', 'darkness', 'go', 'desire', 'will', 'crying', 'with', 'really', \"'n\", 'Said', 'fire', 'great', 'all', 'What', 'Ob-observing', 'it', 'know', 'are', 'tears', 'our', 'When'}\n"
     ]
    }
   ],
   "source": [
    "tokenized_songs = [word_tokenize(d) for d in all_songs]\n",
    "all_tokens_set = set([item for sublist in tokenized_songs for item in sublist])\n",
    "print(all_tokens_set)"
   ]
  },
  {
   "cell_type": "code",
   "execution_count": 139,
   "metadata": {
    "collapsed": true
   },
   "outputs": [],
   "source": [
    "def term_frequency (term, tokenized_song):\n",
    "    return tokenized_song.count(term)"
   ]
  },
  {
   "cell_type": "code",
   "execution_count": 140,
   "metadata": {
    "collapsed": true
   },
   "outputs": [],
   "source": [
    "def sublinear_term_frequency (term, tokenized_song):\n",
    "    return 1 + math.log(tokenized_song.count(term))\n",
    "\n",
    "def augmented_term_frequency (term, tokenized_song):\n",
    "    max_count = max([term_frequency(t, tokenized_song) for t in tokenized_song])\n",
    "    return (0.5 + ((0.5 * term_frequency(term, tokenized_song))/max_count))"
   ]
  },
  {
   "cell_type": "code",
   "execution_count": 145,
   "metadata": {
    "collapsed": true
   },
   "outputs": [],
   "source": [
    "import math\n",
    "def inverse_song_frequencies (tokenized_songs):\n",
    "    idf_values = {}\n",
    "    all_tokens_set = set([item for sublist in tokenized_songs for item in sublist])\n",
    "    for tkn in all_tokens_set:\n",
    "        contains_token = map(lambda doc: tkn in doc, tokenized_songs)\n",
    "        idf_values[tkn] = 1 + math.log(len(tokenized_songs)/(sum(contains_token)))\n",
    "    return idf_values"
   ]
  },
  {
   "cell_type": "code",
   "execution_count": 146,
   "metadata": {},
   "outputs": [
    {
     "name": "stdout",
     "output_type": "stream",
     "text": [
      "3.302585092994046\n"
     ]
    }
   ],
   "source": [
    "idf_values = inverse_song_frequencies(tokenized_songs)\n",
    "print(idf_values['Love'])"
   ]
  },
  {
   "cell_type": "code",
   "execution_count": 147,
   "metadata": {},
   "outputs": [
    {
     "name": "stdout",
     "output_type": "stream",
     "text": [
      "2.6094379124341005\n"
     ]
    }
   ],
   "source": [
    "print(idf_values['Jah'])"
   ]
  },
  {
   "cell_type": "code",
   "execution_count": 148,
   "metadata": {},
   "outputs": [
    {
     "name": "stdout",
     "output_type": "stream",
     "text": [
      "1.6931471805599454\n"
     ]
    }
   ],
   "source": [
    "print(idf_values['right'])"
   ]
  },
  {
   "cell_type": "code",
   "execution_count": 149,
   "metadata": {},
   "outputs": [
    {
     "name": "stdout",
     "output_type": "stream",
     "text": [
      "3.302585092994046\n"
     ]
    }
   ],
   "source": [
    "print(idf_values['Rasta'])"
   ]
  },
  {
   "cell_type": "code",
   "execution_count": 150,
   "metadata": {},
   "outputs": [
    {
     "name": "stdout",
     "output_type": "stream",
     "text": [
      "3.302585092994046\n"
     ]
    }
   ],
   "source": [
    "print(idf_values['live'])"
   ]
  },
  {
   "cell_type": "code",
   "execution_count": 151,
   "metadata": {
    "collapsed": true
   },
   "outputs": [],
   "source": [
    "def tfidf(songs):\n",
    "    tokenized_songs = [word_tokenize(w) for w in songs]\n",
    "    idf = inverse_song_frequencies(tokenized_songs)\n",
    "    tfidf_songs = []\n",
    "    for song in tokenized_songs:\n",
    "        song_tfidf = []\n",
    "        for term in idf.keys():\n",
    "            tf = augmented_term_frequency(term, song)\n",
    "            song_tfidf.append((term, tf * idf[term]))\n",
    "        tfidf_songs.append(song_tfidf)\n",
    "    return tfidf_songs"
   ]
  },
  {
   "cell_type": "code",
   "execution_count": 153,
   "metadata": {},
   "outputs": [
    {
     "name": "stdout",
     "output_type": "stream",
     "text": [
      "[('every', 0.9581453659370776), ('cool', 1.651292546497023), ('oh', 0.8649773639817113), ('fool', 1.3047189562170503), ('!', 1.101986402162968), ('might', 1.3047189562170503), ('Whoa', 1.651292546497023), ('worry', 1.3047189562170503), ('Reggae', 1.651292546497023), ('have', 0.8649773639817113), ('fittest', 1.651292546497023), ('He', 1.3047189562170503), ('pot', 1.651292546497023), ('hang', 1.651292546497023), ('late', 1.3047189562170503), ('he', 1.651292546497023), ('now', 0.6783374719693662), ('from', 1.101986402162968), ('been', 1.3047189562170503), ('some', 0.9581453659370776), ('Father', 1.651292546497023), ('mankind', 1.651292546497023), ('satisfy', 1.651292546497023), ('Your', 1.101986402162968), ('shelter', 1.651292546497023), ('until', 1.651292546497023), ('hiding', 1.651292546497023), ('table', 1.651292546497023), ('Rasta', 1.651292546497023), ('?', 0.8465735902799727), ('cry', 2.1897575073112696), ('Jamaica', 1.651292546497023), ('Almighty', 1.651292546497023), ('let', 1.651292546497023), ('It', 1.101986402162968), ('cook', 1.723087874605589), ('double', 1.3047189562170503), ('see', 1.3047189562170503), ('hurt', 1.651292546497023), ('thing', 1.651292546497023), ('Holy', 1.651292546497023), ('think', 1.3047189562170503), ('bread', 1.651292546497023), ('Do', 0.9581453659370776), ('feelin', 1.651292546497023), ('share', 1.3614458673569219), ('when', 0.8046788648318864), ('lay', 1.3047189562170503), ('Put', 1.3047189562170503), ('girl', 1.3047189562170503), ('lost', 1.6871902105513061), ('government', 1.7589855386598723), ('the', 0.744522161669519), ('very', 1.651292546497023), ('high', 1.3047189562170503), ('right', 0.9938037798938809), ('All', 1.651292546497023), (\"'ll\", 1.149898854430923), ('life', 0.9581453659370776), ('everybody', 1.101986402162968), ('everything', 1.651292546497023), ('ca', 1.3330824117869862), ('irie', 1.651292546497023), ('heart', 1.101986402162968), ('ooh', 1.3330824117869862), ('expect', 1.3047189562170503), ('heaven', 1.651292546497023), ('them', 1.3047189562170503), ('used', 1.7589855386598723), ('down', 1.101986402162968), ('Yes', 1.651292546497023), ('Eh', 1.651292546497023), ('Alright', 1.651292546497023), ('Along', 1.6871902105513061), ('hopeless', 1.651292546497023), ('make', 0.9998038601082548), ('give', 1.101986402162968), ('rights', 1.651292546497023), ('whoa', 1.651292546497023), ('rearrange', 1.651292546497023), ('quench', 1.651292546497023), ('Armageddon', 1.651292546497023), ('Come', 1.101986402162968), ('your', 0.6381618528595877), ('One', 1.651292546497023), ('Of', 1.723087874605589), ('phone', 1.3047189562170503), ('their', 1.651292546497023), ('they', 1.6871902105513061), ('eh', 1.651292546497023), ('Now', 1.6871902105513061), ('Wake', 1.651292546497023), ('thanks', 1.651292546497023), ('game', 1.651292546497023), ('Take', 1.651292546497023), ('of', 0.8465735902799727), ('tired', 1.651292546497023), ('Oh', 0.7718348295326257), ('room', 1.651292546497023), ('make-a', 1.651292546497023), ('Somebody', 1.3047189562170503), ('way', 1.723087874605589), ('Creation', 1.651292546497023), ('(', 0.75206980587908), ('like', 1.3047189562170503), ('minute', 1.651292546497023), ('loved', 1.651292546497023), ('judging', 1.651292546497023), ('coming', 1.651292546497023), ('falling', 1.651292546497023), ('came', 1.3047189562170503), ('grow', 1.651292546497023), ('Have', 1.651292546497023), ('alive', 1.651292546497023), ('pass', 1.101986402162968), ('woe-yoe-yoe-yoe', 1.651292546497023), ('Little', 1.651292546497023), ('get', 1.3047189562170503), ('sick', 1.651292546497023), ('Stay', 1.651292546497023), ('If', 1.651292546497023), ('comes', 1.651292546497023), ('place', 1.101986402162968), ('whoaLet', 1.651292546497023), ('more', 1.651292546497023), ('Who', 1.3047189562170503), ('leave', 1.651292546497023), ('was', 1.149898854430923), ('children', 1.101986402162968), ('Ai', 1.3047189562170503), ('little', 1.0622916013650208), ('come', 0.9581453659370776), ('litigate', 1.3047189562170503), ('No', 1.6734438786262165), ('history', 1.651292546497023), ('Stand', 1.651292546497023), ('Stir', 1.651292546497023), (\"'s\", 1.1247793426217867), ('ask', 1.3047189562170503), (':', 1.101986402162968), ('sister', 1.723087874605589), ('Get', 1.651292546497023), ('shall', 1.3047189562170503), ('no', 1.2882641591216977), ('dirty', 1.651292546497023), ('end', 1.651292546497023), ('frown', 1.3047189562170503), ('Then', 1.149898854430923), (')', 0.75206980587908), ('can', 1.3047189562170503), ('Woman', 1.723087874605589), ('same', 1.651292546497023), ('someone', 1.651292546497023), ('bring', 1.3047189562170503), ('miss', 1.651292546497023), (\"'d\", 1.651292546497023), ('that', 0.9581453659370776), ('light', 1.149898854430923), ('took', 1.3047189562170503), ('hypocrites', 1.6871902105513061), ('Dyin', 1.651292546497023), ('must', 1.651292546497023), ('out', 1.651292546497023), ('night', 1.1738550805649006), ('God', 1.651292546497023), ('him', 1.3047189562170503), ('brought', 1.651292546497023), ('time', 1.3047189562170503), ('good', 0.8833811376834497), ('rain', 1.651292546497023), ('question', 1.651292546497023), ('then', 1.723087874605589), ('be', 0.7963092062249081), ('See', 1.651292546497023), ('throw', 1.651292546497023), ('lord', 1.3047189562170503), ('Sayin', 1.651292546497023), ('Driven', 1.651292546497023), ('want', 1.101986402162968), ('Life', 1.651292546497023), ('Since', 1.651292546497023), ('friends', 1.723087874605589), ('would', 1.2217675328328559), ('morning', 1.651292546497023), ('learn', 1.3047189562170503), ('bed', 1.101986402162968), ('away', 1.651292546497023), ('feet', 1.723087874605589), ('na', 1.1247793426217867), ('yes', 1.651292546497023), ('me', 0.7554128118829954), (\"n't\", 0.7668162726610226), ('hell', 1.651292546497023), ('understand', 1.651292546497023), ('meet', 1.723087874605589), (\"'m\", 0.788256847182256), ('woman', 2.1897575073112696), ('man', 1.3047189562170503), ('those', 1.651292546497023), ('through', 1.4181727784967937), ('neighborhood', 1.3047189562170503), ('runs', 1.651292546497023), ('yours', 1.651292546497023), ('Above', 1.651292546497023), ('again', 1.651292546497023), ('for', 0.7554128118829954), (\"'Cause\", 1.651292546497023), ('name', 1.651292546497023), ('Half', 1.651292546497023), ('mind', 1.3047189562170503), ('what', 0.8465735902799727), ('hope', 1.3047189562170503), ('Preacher', 1.651292546497023), ('we', 0.9938037798938809), ('carriage', 1.723087874605589), ('roof', 1.651292546497023), ('soon', 1.3047189562170503), ('Hear', 1.651292546497023), ('while', 1.149898854430923), ('So', 0.6514568914608291), ('his', 1.651292546497023), ('remember', 1.7589855386598723), ('I', 0.6848429281793054), ('You', 0.9581453659370776), ('may', 1.101986402162968), ('Got', 1.651292546497023), ('There', 1.101986402162968), ('.', 1.3047189562170503), ('cash', 1.3047189562170503), ('do', 0.837522900131147), ('Yeah', 1.651292546497023), ('Give', 1.651292546497023), ('We', 1.101986402162968), ('a', 0.6115717756571049), ('past', 1.6871902105513061), ('yeah', 0.8649773639817113), ('San', 1.651292546497023), ('jah', 1.651292546497023), ('fight', 1.3047189562170503), ('fighting', 1.651292546497023), ('Keep', 1.651292546497023), ('stir', 1.651292546497023), ('in-a', 1.651292546497023), ('Rockers', 1.651292546497023), ('struggling', 1.651292546497023), ('Dear', 1.6871902105513061), ('brotherman', 1.651292546497023), ('war', 1.651292546497023), ('road', 1.651292546497023), ('keep', 1.651292546497023), ('could', 1.651292546497023), ('treat', 1.3047189562170503), ('up', 1.101986402162968), ('well', 1.651292546497023), ('mean', 1.6871902105513061), ('sky', 1.3047189562170503), ('gone', 1.723087874605589), ('Man', 1.651292546497023), ('clear', 1.651292546497023), ('only', 1.3614458673569219), ('Feelin', 1.651292546497023), ('cornmeal', 1.723087874605589), ('living', 1.651292546497023), ('ya', 1.3047189562170503), ('Let', 1.651292546497023), (',', 1.0), ('gon', 1.2936362112347883), ('push', 1.3614458673569219), ('smile', 1.3047189562170503), ('Cause', 1.3047189562170503), ('-', 1.3047189562170503), ('tell', 1.651292546497023), ('survival', 1.651292546497023), ('sit', 1.7589855386598723), ('Everything', 1.9384738589312875), ('over', 1.651292546497023), ('hoo', 1.651292546497023), ('style', 1.3047189562170503), ('at', 1.3047189562170503), ('Fighting', 1.651292546497023), ('In', 1.0414623542794321), ('just', 1.101986402162968), ('blaze', 1.651292546497023), ('shed', 1.8307808667684387), ('The', 1.101986402162968), ('together', 1.3047189562170503), ('own', 1.3047189562170503), (\"'re\", 1.3047189562170503), ('Georgie', 1.723087874605589), ('main', 1.651292546497023), ('cards', 1.651292546497023), ('number', 1.3047189562170503), ('Huh', 1.651292546497023), ('Juan', 1.651292546497023), ('touch', 1.651292546497023), ('fingers', 1.651292546497023), ('ai', 0.9581453659370776), ('rockers', 1.651292546497023), ('people', 1.3330824117869862), ('They', 1.651292546497023), ('Sing', 1.651292546497023), ('thinking', 1.651292546497023), ('not', 1.3047189562170503), ('Heaven', 1.651292546497023), ('call', 1.3047189562170503), ('if', 1.3047189562170503), ('story', 1.651292546497023), ('Trodding', 1.651292546497023), ('wood', 1.651292546497023), ('chances', 1.651292546497023), ('porridge', 1.723087874605589), ('Could', 1.651292546497023), ('matter', 1.651292546497023), ('single', 1.651292546497023), ('thirsty', 1.651292546497023), ('is', 0.5767098342562572), ('one', 1.651292546497023), ('Lord', 1.101986402162968), ('My', 1.723087874605589), ('earth', 1.651292546497023), ('pleading', 1.651292546497023), ('water', 1.651292546497023), ('feel', 1.101986402162968), ('live', 1.651292546497023), ('Whatever', 1.3047189562170503), ('to', 0.5543478260869565), ('Good', 1.6871902105513061), ('us', 1.3047189562170503), ('Woe-yoe-yoe-yoe-yoe-yoe-yoe-yoe', 1.651292546497023), ('yard', 1.7589855386598723), ('whose', 1.651292546497023), ('loose', 1.651292546497023), (';', 1.651292546497023), ('this', 0.8649773639817113), ('recipe', 1.651292546497023), ('able', 1.651292546497023), ('too', 1.651292546497023), ('Believe', 1.651292546497023), ('willing', 1.651292546497023), ('ran', 1.651292546497023), ('Buffalo', 1.651292546497023), ('an', 1.651292546497023), ('got', 0.788256847182256), ('how', 1.651292546497023), ('Listen', 1.3047189562170503), (\"'\", 0.8539449177807773), ('stumble', 1.651292546497023), ('where', 1.651292546497023), ('Like', 1.3047189562170503), ('reggae', 1.651292546497023), ('sayin', 1.6871902105513061), ('forget', 1.6871902105513061), ('change', 1.651292546497023), ('survive', 1.651292546497023), ('you', 0.6514568914608291), ('save', 1.651292546497023), ('sinner', 1.651292546497023), ('ism-skism', 1.651292546497023), ('sometimes', 1.651292546497023), ('Soldier', 1.651292546497023), ('hot', 1.651292546497023), ('Great', 1.651292546497023), ('future', 1.6871902105513061), ('neighbourhood', 1.651292546497023), ('Wo-o-o-oah', 1.651292546497023), ('tasty', 1.651292546497023), ('rocky', 1.651292546497023), ('Love', 1.651292546497023), (\"'ve\", 1.0206331071938435), ('under', 1.651292546497023), ('And', 0.9017849113851883), ('Troddin', 1.651292546497023), ('darlin', 1.7589855386598723), ('For', 1.651292546497023), ('point', 1.651292546497023), ('else', 1.651292546497023), ('which', 1.723087874605589), ('I-I-I-I-I-I-I-I-I', 1.651292546497023), ('wan', 1.651292546497023), ('trouble', 1.3047189562170503), ('said', 1.4181727784967937), ('my', 0.788256847182256), ('nigger', 1.651292546497023), ('better', 1.651292546497023), ('honey', 1.651292546497023), ('burnin', 1.723087874605589), ('pity', 1.651292546497023), ('America', 1.651292546497023), ('Jah', 1.3047189562170503), ('wrote', 1.3047189562170503), ('stand', 1.651292546497023), ('note', 1.3047189562170503), ('rent', 1.3047189562170503), ('Say', 1.651292546497023), ('told', 1.651292546497023), ('To', 1.651292546497023), ('am', 1.101986402162968), ('Most', 1.651292546497023), ('baby', 1.651292546497023), ('try', 1.651292546497023), ('beginning', 1.651292546497023), ('sure', 1.651292546497023), ('love', 1.3047189562170503), ('so', 1.3047189562170503), ('Africa', 1.651292546497023), ('on', 0.5767098342562572), ('But', 0.9998038601082548), ('doom', 1.651292546497023), ('Stolen', 1.651292546497023), ('and', 0.6115717756571049), ('song', 1.101986402162968), ('arms', 1.651292546497023), ('say', 0.8649773639817113), ('Kaya', 1.651292546497023), ('kaya', 1.651292546497023), ('dry', 1.3330824117869862), ('Look', 1.3047189562170503), ('even', 1.3047189562170503), ('face', 1.3047189562170503), ('arrival', 1.651292546497023), ('remarks', 1.651292546497023), ('provide', 1.651292546497023), ('day', 1.651292546497023), ('Hey', 1.6871902105513061), ('Jesus', 1.651292546497023), ('wo', 1.651292546497023), ('gold', 1.651292546497023), ('has', 1.3047189562170503), ('Uh', 1.651292546497023), ('mingle', 1.6871902105513061), ('Caribbean', 1.651292546497023), ('Is', 1.3047189562170503), ('Only', 1.651292546497023), ('alone', 1.651292546497023), ('Here', 1.101986402162968), ('here', 1.651292546497023), ('praise', 1.651292546497023), ('sing', 1.3047189562170503), ('turn', 1.651292546497023), ('in', 0.7225768723151945), ('Trenchtown', 1.7589855386598723), ('long', 1.651292546497023), ('thinner', 1.651292546497023), ('Woe-yoe-yoe', 1.651292546497023), ('head', 1.3047189562170503), ('darling', 1.651292546497023), ('As', 1.389809322926858), ('there', 1.3047189562170503), ('never', 1.3047189562170503), ('worth', 1.651292546497023), ('goin', 1.651292546497023), ('Or', 1.651292546497023), ('should', 1.651292546497023), ('heck', 1.651292546497023), ('look', 1.651292546497023), ('Ay', 1.651292546497023), ('satisfied', 1.651292546497023), ('land', 1.101986402162968), ('heads', 1.651292546497023), ('dreadlock', 1.651292546497023), ('happy', 1.3047189562170503), ('glitters', 1.651292546497023), ('something', 1.651292546497023), ('logwood', 1.723087874605589), ('school', 1.651292546497023), ('darkness', 1.651292546497023), ('go', 1.651292546497023), ('desire', 1.651292546497023), ('will', 0.7554128118829954), ('crying', 1.651292546497023), ('with', 1.389809322926858), ('really', 1.3047189562170503), (\"'n\", 1.651292546497023), ('Said', 1.149898854430923), ('fire', 1.3614458673569219), ('great', 1.6871902105513061), ('all', 1.2936362112347883), ('What', 1.651292546497023), ('Ob-observing', 1.6871902105513061), ('it', 0.7078304055332517), ('know', 1.101986402162968), ('are', 1.651292546497023), ('tears', 1.8666785308227214), ('our', 1.101986402162968), ('When', 1.3047189562170503)]\n"
     ]
    }
   ],
   "source": [
    "tfidf_representation = tfidf(all_songs)\n",
    "print(tfidf_representation[1])"
   ]
  },
  {
   "cell_type": "code",
   "execution_count": null,
   "metadata": {
    "collapsed": true
   },
   "outputs": [],
   "source": []
  }
 ],
 "metadata": {
  "kernelspec": {
   "display_name": "Python 3",
   "language": "python",
   "name": "python3"
  },
  "language_info": {
   "codemirror_mode": {
    "name": "ipython",
    "version": 3
   },
   "file_extension": ".py",
   "mimetype": "text/x-python",
   "name": "python",
   "nbconvert_exporter": "python",
   "pygments_lexer": "ipython3",
   "version": "3.6.1"
  }
 },
 "nbformat": 4,
 "nbformat_minor": 2
}
