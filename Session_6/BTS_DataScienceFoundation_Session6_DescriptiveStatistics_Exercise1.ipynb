{
 "cells": [
  {
   "cell_type": "markdown",
   "metadata": {},
   "source": [
    "# Subject: Data Science Foundation\n",
    "\n",
    "## Session 6 - Introduction to descriptive statistics\n",
    "\n",
    "### Exercice 1 -  Descriptive Statistics For pandas Dataframe \"Advertising Data\"\n",
    "\n",
    "Considering the Descriptive Statistics in Demo 2 develop the Descriptive Statistics for the variables “TV”, “radio” and “newspaper”. \n",
    "\n",
    "- Dataset: \"Advertising\" (available at http://www-bcf.usc.edu/~gareth/ISL/Advertising.csv). \n",
    "- Interpret and discuss the Results. \n",
    "- Commit scripts in your GitHub account. You should export your solution code (.ipynb notebook) and push it to your repository “DataScienceFoundations”.\n",
    "\n",
    "\n",
    "The following are the tasks that should complete and synchronize with your repository “DataScienceFoundations” until October 25. Please notice that none of these tasks is graded, however it’s important that you correctly understand and complete them in order to be sure that you won’t have problems with further assignments."
   ]
  },
  {
   "cell_type": "markdown",
   "metadata": {},
   "source": [
    "### Read data into a Dataframe:"
   ]
  },
  {
   "cell_type": "code",
   "execution_count": 24,
   "metadata": {},
   "outputs": [
    {
     "data": {
      "text/html": [
       "<div>\n",
       "<style>\n",
       "    .dataframe thead tr:only-child th {\n",
       "        text-align: right;\n",
       "    }\n",
       "\n",
       "    .dataframe thead th {\n",
       "        text-align: left;\n",
       "    }\n",
       "\n",
       "    .dataframe tbody tr th {\n",
       "        vertical-align: top;\n",
       "    }\n",
       "</style>\n",
       "<table border=\"1\" class=\"dataframe\">\n",
       "  <thead>\n",
       "    <tr style=\"text-align: right;\">\n",
       "      <th></th>\n",
       "      <th>TV</th>\n",
       "      <th>radio</th>\n",
       "      <th>newspaper</th>\n",
       "      <th>sales</th>\n",
       "    </tr>\n",
       "  </thead>\n",
       "  <tbody>\n",
       "    <tr>\n",
       "      <th>1</th>\n",
       "      <td>230.1</td>\n",
       "      <td>37.8</td>\n",
       "      <td>69.2</td>\n",
       "      <td>22.1</td>\n",
       "    </tr>\n",
       "    <tr>\n",
       "      <th>2</th>\n",
       "      <td>44.5</td>\n",
       "      <td>39.3</td>\n",
       "      <td>45.1</td>\n",
       "      <td>10.4</td>\n",
       "    </tr>\n",
       "    <tr>\n",
       "      <th>3</th>\n",
       "      <td>17.2</td>\n",
       "      <td>45.9</td>\n",
       "      <td>69.3</td>\n",
       "      <td>9.3</td>\n",
       "    </tr>\n",
       "    <tr>\n",
       "      <th>4</th>\n",
       "      <td>151.5</td>\n",
       "      <td>41.3</td>\n",
       "      <td>58.5</td>\n",
       "      <td>18.5</td>\n",
       "    </tr>\n",
       "    <tr>\n",
       "      <th>5</th>\n",
       "      <td>180.8</td>\n",
       "      <td>10.8</td>\n",
       "      <td>58.4</td>\n",
       "      <td>12.9</td>\n",
       "    </tr>\n",
       "  </tbody>\n",
       "</table>\n",
       "</div>"
      ],
      "text/plain": [
       "      TV  radio  newspaper  sales\n",
       "1  230.1   37.8       69.2   22.1\n",
       "2   44.5   39.3       45.1   10.4\n",
       "3   17.2   45.9       69.3    9.3\n",
       "4  151.5   41.3       58.5   18.5\n",
       "5  180.8   10.8       58.4   12.9"
      ]
     },
     "execution_count": 24,
     "metadata": {},
     "output_type": "execute_result"
    }
   ],
   "source": [
    "import pandas as pd\n",
    "import numpy as np\n",
    "import matplotlib.pyplot as plt\n",
    "import math\n",
    "%matplotlib inline\n",
    "df = pd.read_csv('http://www-bcf.usc.edu/~gareth/ISL/Advertising.csv', index_col=0)\n",
    "df.head()"
   ]
  },
  {
   "cell_type": "markdown",
   "metadata": {
    "collapsed": true
   },
   "source": [
    "## Basic statistics \n",
    "\n",
    "Sum, Cumulative sum, Count the number of non-NA values, Count the number of NA values, Minimum value of TV, Minimum value of TV and Range of TV. Repeat for radio and newspaper."
   ]
  },
  {
   "cell_type": "code",
   "execution_count": 6,
   "metadata": {},
   "outputs": [
    {
     "data": {
      "text/plain": [
       "TV           29408.5\n",
       "radio         4652.8\n",
       "newspaper     6110.8\n",
       "sales         2804.5\n",
       "dtype: float64"
      ]
     },
     "execution_count": 6,
     "metadata": {},
     "output_type": "execute_result"
    }
   ],
   "source": [
    "df.sum()"
   ]
  },
  {
   "cell_type": "code",
   "execution_count": 8,
   "metadata": {
    "scrolled": true
   },
   "outputs": [
    {
     "data": {
      "text/html": [
       "<div>\n",
       "<style>\n",
       "    .dataframe thead tr:only-child th {\n",
       "        text-align: right;\n",
       "    }\n",
       "\n",
       "    .dataframe thead th {\n",
       "        text-align: left;\n",
       "    }\n",
       "\n",
       "    .dataframe tbody tr th {\n",
       "        vertical-align: top;\n",
       "    }\n",
       "</style>\n",
       "<table border=\"1\" class=\"dataframe\">\n",
       "  <thead>\n",
       "    <tr style=\"text-align: right;\">\n",
       "      <th></th>\n",
       "      <th>TV</th>\n",
       "      <th>radio</th>\n",
       "      <th>newspaper</th>\n",
       "      <th>sales</th>\n",
       "    </tr>\n",
       "  </thead>\n",
       "  <tbody>\n",
       "    <tr>\n",
       "      <th>1</th>\n",
       "      <td>230.1</td>\n",
       "      <td>37.8</td>\n",
       "      <td>69.2</td>\n",
       "      <td>22.1</td>\n",
       "    </tr>\n",
       "    <tr>\n",
       "      <th>2</th>\n",
       "      <td>274.6</td>\n",
       "      <td>77.1</td>\n",
       "      <td>114.3</td>\n",
       "      <td>32.5</td>\n",
       "    </tr>\n",
       "    <tr>\n",
       "      <th>3</th>\n",
       "      <td>291.8</td>\n",
       "      <td>123.0</td>\n",
       "      <td>183.6</td>\n",
       "      <td>41.8</td>\n",
       "    </tr>\n",
       "    <tr>\n",
       "      <th>4</th>\n",
       "      <td>443.3</td>\n",
       "      <td>164.3</td>\n",
       "      <td>242.1</td>\n",
       "      <td>60.3</td>\n",
       "    </tr>\n",
       "    <tr>\n",
       "      <th>5</th>\n",
       "      <td>624.1</td>\n",
       "      <td>175.1</td>\n",
       "      <td>300.5</td>\n",
       "      <td>73.2</td>\n",
       "    </tr>\n",
       "    <tr>\n",
       "      <th>6</th>\n",
       "      <td>632.8</td>\n",
       "      <td>224.0</td>\n",
       "      <td>375.5</td>\n",
       "      <td>80.4</td>\n",
       "    </tr>\n",
       "    <tr>\n",
       "      <th>7</th>\n",
       "      <td>690.3</td>\n",
       "      <td>256.8</td>\n",
       "      <td>399.0</td>\n",
       "      <td>92.2</td>\n",
       "    </tr>\n",
       "    <tr>\n",
       "      <th>8</th>\n",
       "      <td>810.5</td>\n",
       "      <td>276.4</td>\n",
       "      <td>410.6</td>\n",
       "      <td>105.4</td>\n",
       "    </tr>\n",
       "    <tr>\n",
       "      <th>9</th>\n",
       "      <td>819.1</td>\n",
       "      <td>278.5</td>\n",
       "      <td>411.6</td>\n",
       "      <td>110.2</td>\n",
       "    </tr>\n",
       "    <tr>\n",
       "      <th>10</th>\n",
       "      <td>1018.9</td>\n",
       "      <td>281.1</td>\n",
       "      <td>432.8</td>\n",
       "      <td>120.8</td>\n",
       "    </tr>\n",
       "    <tr>\n",
       "      <th>11</th>\n",
       "      <td>1085.0</td>\n",
       "      <td>286.9</td>\n",
       "      <td>457.0</td>\n",
       "      <td>129.4</td>\n",
       "    </tr>\n",
       "    <tr>\n",
       "      <th>12</th>\n",
       "      <td>1299.7</td>\n",
       "      <td>310.9</td>\n",
       "      <td>461.0</td>\n",
       "      <td>146.8</td>\n",
       "    </tr>\n",
       "    <tr>\n",
       "      <th>13</th>\n",
       "      <td>1323.5</td>\n",
       "      <td>346.0</td>\n",
       "      <td>526.9</td>\n",
       "      <td>156.0</td>\n",
       "    </tr>\n",
       "    <tr>\n",
       "      <th>14</th>\n",
       "      <td>1421.0</td>\n",
       "      <td>353.6</td>\n",
       "      <td>534.1</td>\n",
       "      <td>165.7</td>\n",
       "    </tr>\n",
       "    <tr>\n",
       "      <th>15</th>\n",
       "      <td>1625.1</td>\n",
       "      <td>386.5</td>\n",
       "      <td>580.1</td>\n",
       "      <td>184.7</td>\n",
       "    </tr>\n",
       "    <tr>\n",
       "      <th>16</th>\n",
       "      <td>1820.5</td>\n",
       "      <td>434.2</td>\n",
       "      <td>633.0</td>\n",
       "      <td>207.1</td>\n",
       "    </tr>\n",
       "    <tr>\n",
       "      <th>17</th>\n",
       "      <td>1888.3</td>\n",
       "      <td>470.8</td>\n",
       "      <td>747.0</td>\n",
       "      <td>219.6</td>\n",
       "    </tr>\n",
       "    <tr>\n",
       "      <th>18</th>\n",
       "      <td>2169.7</td>\n",
       "      <td>510.4</td>\n",
       "      <td>802.8</td>\n",
       "      <td>244.0</td>\n",
       "    </tr>\n",
       "    <tr>\n",
       "      <th>19</th>\n",
       "      <td>2238.9</td>\n",
       "      <td>530.9</td>\n",
       "      <td>821.1</td>\n",
       "      <td>255.3</td>\n",
       "    </tr>\n",
       "    <tr>\n",
       "      <th>20</th>\n",
       "      <td>2386.2</td>\n",
       "      <td>554.8</td>\n",
       "      <td>840.2</td>\n",
       "      <td>269.9</td>\n",
       "    </tr>\n",
       "    <tr>\n",
       "      <th>21</th>\n",
       "      <td>2604.6</td>\n",
       "      <td>582.5</td>\n",
       "      <td>893.6</td>\n",
       "      <td>287.9</td>\n",
       "    </tr>\n",
       "    <tr>\n",
       "      <th>22</th>\n",
       "      <td>2842.0</td>\n",
       "      <td>587.6</td>\n",
       "      <td>917.1</td>\n",
       "      <td>300.4</td>\n",
       "    </tr>\n",
       "    <tr>\n",
       "      <th>23</th>\n",
       "      <td>2855.2</td>\n",
       "      <td>603.5</td>\n",
       "      <td>966.7</td>\n",
       "      <td>306.0</td>\n",
       "    </tr>\n",
       "    <tr>\n",
       "      <th>24</th>\n",
       "      <td>3083.5</td>\n",
       "      <td>620.4</td>\n",
       "      <td>992.9</td>\n",
       "      <td>321.5</td>\n",
       "    </tr>\n",
       "    <tr>\n",
       "      <th>25</th>\n",
       "      <td>3145.8</td>\n",
       "      <td>633.0</td>\n",
       "      <td>1011.2</td>\n",
       "      <td>331.2</td>\n",
       "    </tr>\n",
       "    <tr>\n",
       "      <th>26</th>\n",
       "      <td>3408.7</td>\n",
       "      <td>636.5</td>\n",
       "      <td>1030.7</td>\n",
       "      <td>343.2</td>\n",
       "    </tr>\n",
       "    <tr>\n",
       "      <th>27</th>\n",
       "      <td>3551.6</td>\n",
       "      <td>665.8</td>\n",
       "      <td>1043.3</td>\n",
       "      <td>358.2</td>\n",
       "    </tr>\n",
       "    <tr>\n",
       "      <th>28</th>\n",
       "      <td>3791.7</td>\n",
       "      <td>682.5</td>\n",
       "      <td>1066.2</td>\n",
       "      <td>374.1</td>\n",
       "    </tr>\n",
       "    <tr>\n",
       "      <th>29</th>\n",
       "      <td>4040.5</td>\n",
       "      <td>709.6</td>\n",
       "      <td>1089.1</td>\n",
       "      <td>393.0</td>\n",
       "    </tr>\n",
       "    <tr>\n",
       "      <th>30</th>\n",
       "      <td>4111.1</td>\n",
       "      <td>725.6</td>\n",
       "      <td>1129.9</td>\n",
       "      <td>403.5</td>\n",
       "    </tr>\n",
       "    <tr>\n",
       "      <th>...</th>\n",
       "      <td>...</td>\n",
       "      <td>...</td>\n",
       "      <td>...</td>\n",
       "      <td>...</td>\n",
       "    </tr>\n",
       "    <tr>\n",
       "      <th>171</th>\n",
       "      <td>24609.0</td>\n",
       "      <td>4120.1</td>\n",
       "      <td>5467.0</td>\n",
       "      <td>2395.4</td>\n",
       "    </tr>\n",
       "    <tr>\n",
       "      <th>172</th>\n",
       "      <td>24773.5</td>\n",
       "      <td>4141.0</td>\n",
       "      <td>5514.4</td>\n",
       "      <td>2409.9</td>\n",
       "    </tr>\n",
       "    <tr>\n",
       "      <th>173</th>\n",
       "      <td>24793.1</td>\n",
       "      <td>4161.1</td>\n",
       "      <td>5531.4</td>\n",
       "      <td>2417.5</td>\n",
       "    </tr>\n",
       "    <tr>\n",
       "      <th>174</th>\n",
       "      <td>24961.5</td>\n",
       "      <td>4168.2</td>\n",
       "      <td>5544.2</td>\n",
       "      <td>2429.2</td>\n",
       "    </tr>\n",
       "    <tr>\n",
       "      <th>175</th>\n",
       "      <td>25183.9</td>\n",
       "      <td>4171.6</td>\n",
       "      <td>5557.3</td>\n",
       "      <td>2440.7</td>\n",
       "    </tr>\n",
       "    <tr>\n",
       "      <th>176</th>\n",
       "      <td>25460.8</td>\n",
       "      <td>4220.5</td>\n",
       "      <td>5599.1</td>\n",
       "      <td>2467.7</td>\n",
       "    </tr>\n",
       "    <tr>\n",
       "      <th>177</th>\n",
       "      <td>25709.2</td>\n",
       "      <td>4250.7</td>\n",
       "      <td>5619.4</td>\n",
       "      <td>2487.9</td>\n",
       "    </tr>\n",
       "    <tr>\n",
       "      <th>178</th>\n",
       "      <td>25879.4</td>\n",
       "      <td>4258.5</td>\n",
       "      <td>5654.6</td>\n",
       "      <td>2499.6</td>\n",
       "    </tr>\n",
       "    <tr>\n",
       "      <th>179</th>\n",
       "      <td>26156.1</td>\n",
       "      <td>4260.8</td>\n",
       "      <td>5678.3</td>\n",
       "      <td>2511.4</td>\n",
       "    </tr>\n",
       "    <tr>\n",
       "      <th>180</th>\n",
       "      <td>26321.7</td>\n",
       "      <td>4270.8</td>\n",
       "      <td>5695.9</td>\n",
       "      <td>2524.0</td>\n",
       "    </tr>\n",
       "    <tr>\n",
       "      <th>181</th>\n",
       "      <td>26478.3</td>\n",
       "      <td>4273.4</td>\n",
       "      <td>5704.2</td>\n",
       "      <td>2534.5</td>\n",
       "    </tr>\n",
       "    <tr>\n",
       "      <th>182</th>\n",
       "      <td>26696.8</td>\n",
       "      <td>4278.8</td>\n",
       "      <td>5731.6</td>\n",
       "      <td>2546.7</td>\n",
       "    </tr>\n",
       "    <tr>\n",
       "      <th>183</th>\n",
       "      <td>26753.0</td>\n",
       "      <td>4284.5</td>\n",
       "      <td>5761.3</td>\n",
       "      <td>2555.4</td>\n",
       "    </tr>\n",
       "    <tr>\n",
       "      <th>184</th>\n",
       "      <td>27040.6</td>\n",
       "      <td>4327.5</td>\n",
       "      <td>5833.1</td>\n",
       "      <td>2581.6</td>\n",
       "    </tr>\n",
       "    <tr>\n",
       "      <th>185</th>\n",
       "      <td>27294.4</td>\n",
       "      <td>4348.8</td>\n",
       "      <td>5863.1</td>\n",
       "      <td>2599.2</td>\n",
       "    </tr>\n",
       "    <tr>\n",
       "      <th>186</th>\n",
       "      <td>27499.4</td>\n",
       "      <td>4393.9</td>\n",
       "      <td>5882.7</td>\n",
       "      <td>2621.8</td>\n",
       "    </tr>\n",
       "    <tr>\n",
       "      <th>187</th>\n",
       "      <td>27638.9</td>\n",
       "      <td>4396.0</td>\n",
       "      <td>5909.3</td>\n",
       "      <td>2632.1</td>\n",
       "    </tr>\n",
       "    <tr>\n",
       "      <th>188</th>\n",
       "      <td>27830.0</td>\n",
       "      <td>4424.7</td>\n",
       "      <td>5927.5</td>\n",
       "      <td>2649.4</td>\n",
       "    </tr>\n",
       "    <tr>\n",
       "      <th>189</th>\n",
       "      <td>28116.0</td>\n",
       "      <td>4438.6</td>\n",
       "      <td>5931.2</td>\n",
       "      <td>2665.3</td>\n",
       "    </tr>\n",
       "    <tr>\n",
       "      <th>190</th>\n",
       "      <td>28134.7</td>\n",
       "      <td>4450.7</td>\n",
       "      <td>5954.6</td>\n",
       "      <td>2672.0</td>\n",
       "    </tr>\n",
       "    <tr>\n",
       "      <th>191</th>\n",
       "      <td>28174.2</td>\n",
       "      <td>4491.8</td>\n",
       "      <td>5960.4</td>\n",
       "      <td>2682.8</td>\n",
       "    </tr>\n",
       "    <tr>\n",
       "      <th>192</th>\n",
       "      <td>28249.7</td>\n",
       "      <td>4502.6</td>\n",
       "      <td>5966.4</td>\n",
       "      <td>2692.7</td>\n",
       "    </tr>\n",
       "    <tr>\n",
       "      <th>193</th>\n",
       "      <td>28266.9</td>\n",
       "      <td>4506.7</td>\n",
       "      <td>5998.0</td>\n",
       "      <td>2698.6</td>\n",
       "    </tr>\n",
       "    <tr>\n",
       "      <th>194</th>\n",
       "      <td>28433.7</td>\n",
       "      <td>4548.7</td>\n",
       "      <td>6001.6</td>\n",
       "      <td>2718.2</td>\n",
       "    </tr>\n",
       "    <tr>\n",
       "      <th>195</th>\n",
       "      <td>28583.4</td>\n",
       "      <td>4584.3</td>\n",
       "      <td>6007.6</td>\n",
       "      <td>2735.5</td>\n",
       "    </tr>\n",
       "    <tr>\n",
       "      <th>196</th>\n",
       "      <td>28621.6</td>\n",
       "      <td>4588.0</td>\n",
       "      <td>6021.4</td>\n",
       "      <td>2743.1</td>\n",
       "    </tr>\n",
       "    <tr>\n",
       "      <th>197</th>\n",
       "      <td>28715.8</td>\n",
       "      <td>4592.9</td>\n",
       "      <td>6029.5</td>\n",
       "      <td>2752.8</td>\n",
       "    </tr>\n",
       "    <tr>\n",
       "      <th>198</th>\n",
       "      <td>28892.8</td>\n",
       "      <td>4602.2</td>\n",
       "      <td>6035.9</td>\n",
       "      <td>2765.6</td>\n",
       "    </tr>\n",
       "    <tr>\n",
       "      <th>199</th>\n",
       "      <td>29176.4</td>\n",
       "      <td>4644.2</td>\n",
       "      <td>6102.1</td>\n",
       "      <td>2791.1</td>\n",
       "    </tr>\n",
       "    <tr>\n",
       "      <th>200</th>\n",
       "      <td>29408.5</td>\n",
       "      <td>4652.8</td>\n",
       "      <td>6110.8</td>\n",
       "      <td>2804.5</td>\n",
       "    </tr>\n",
       "  </tbody>\n",
       "</table>\n",
       "<p>200 rows × 4 columns</p>\n",
       "</div>"
      ],
      "text/plain": [
       "          TV   radio  newspaper   sales\n",
       "1      230.1    37.8       69.2    22.1\n",
       "2      274.6    77.1      114.3    32.5\n",
       "3      291.8   123.0      183.6    41.8\n",
       "4      443.3   164.3      242.1    60.3\n",
       "5      624.1   175.1      300.5    73.2\n",
       "6      632.8   224.0      375.5    80.4\n",
       "7      690.3   256.8      399.0    92.2\n",
       "8      810.5   276.4      410.6   105.4\n",
       "9      819.1   278.5      411.6   110.2\n",
       "10    1018.9   281.1      432.8   120.8\n",
       "11    1085.0   286.9      457.0   129.4\n",
       "12    1299.7   310.9      461.0   146.8\n",
       "13    1323.5   346.0      526.9   156.0\n",
       "14    1421.0   353.6      534.1   165.7\n",
       "15    1625.1   386.5      580.1   184.7\n",
       "16    1820.5   434.2      633.0   207.1\n",
       "17    1888.3   470.8      747.0   219.6\n",
       "18    2169.7   510.4      802.8   244.0\n",
       "19    2238.9   530.9      821.1   255.3\n",
       "20    2386.2   554.8      840.2   269.9\n",
       "21    2604.6   582.5      893.6   287.9\n",
       "22    2842.0   587.6      917.1   300.4\n",
       "23    2855.2   603.5      966.7   306.0\n",
       "24    3083.5   620.4      992.9   321.5\n",
       "25    3145.8   633.0     1011.2   331.2\n",
       "26    3408.7   636.5     1030.7   343.2\n",
       "27    3551.6   665.8     1043.3   358.2\n",
       "28    3791.7   682.5     1066.2   374.1\n",
       "29    4040.5   709.6     1089.1   393.0\n",
       "30    4111.1   725.6     1129.9   403.5\n",
       "..       ...     ...        ...     ...\n",
       "171  24609.0  4120.1     5467.0  2395.4\n",
       "172  24773.5  4141.0     5514.4  2409.9\n",
       "173  24793.1  4161.1     5531.4  2417.5\n",
       "174  24961.5  4168.2     5544.2  2429.2\n",
       "175  25183.9  4171.6     5557.3  2440.7\n",
       "176  25460.8  4220.5     5599.1  2467.7\n",
       "177  25709.2  4250.7     5619.4  2487.9\n",
       "178  25879.4  4258.5     5654.6  2499.6\n",
       "179  26156.1  4260.8     5678.3  2511.4\n",
       "180  26321.7  4270.8     5695.9  2524.0\n",
       "181  26478.3  4273.4     5704.2  2534.5\n",
       "182  26696.8  4278.8     5731.6  2546.7\n",
       "183  26753.0  4284.5     5761.3  2555.4\n",
       "184  27040.6  4327.5     5833.1  2581.6\n",
       "185  27294.4  4348.8     5863.1  2599.2\n",
       "186  27499.4  4393.9     5882.7  2621.8\n",
       "187  27638.9  4396.0     5909.3  2632.1\n",
       "188  27830.0  4424.7     5927.5  2649.4\n",
       "189  28116.0  4438.6     5931.2  2665.3\n",
       "190  28134.7  4450.7     5954.6  2672.0\n",
       "191  28174.2  4491.8     5960.4  2682.8\n",
       "192  28249.7  4502.6     5966.4  2692.7\n",
       "193  28266.9  4506.7     5998.0  2698.6\n",
       "194  28433.7  4548.7     6001.6  2718.2\n",
       "195  28583.4  4584.3     6007.6  2735.5\n",
       "196  28621.6  4588.0     6021.4  2743.1\n",
       "197  28715.8  4592.9     6029.5  2752.8\n",
       "198  28892.8  4602.2     6035.9  2765.6\n",
       "199  29176.4  4644.2     6102.1  2791.1\n",
       "200  29408.5  4652.8     6110.8  2804.5\n",
       "\n",
       "[200 rows x 4 columns]"
      ]
     },
     "execution_count": 8,
     "metadata": {},
     "output_type": "execute_result"
    }
   ],
   "source": [
    "df.cumsum()"
   ]
  },
  {
   "cell_type": "code",
   "execution_count": 9,
   "metadata": {},
   "outputs": [
    {
     "data": {
      "text/plain": [
       "TV           200\n",
       "radio        200\n",
       "newspaper    200\n",
       "sales        200\n",
       "dtype: int64"
      ]
     },
     "execution_count": 9,
     "metadata": {},
     "output_type": "execute_result"
    }
   ],
   "source": [
    "df.count()"
   ]
  },
  {
   "cell_type": "code",
   "execution_count": 14,
   "metadata": {},
   "outputs": [
    {
     "data": {
      "text/plain": [
       "TV           0\n",
       "radio        0\n",
       "newspaper    0\n",
       "sales        0\n",
       "dtype: int64"
      ]
     },
     "execution_count": 14,
     "metadata": {},
     "output_type": "execute_result"
    }
   ],
   "source": [
    "df.isnull().sum()"
   ]
  },
  {
   "cell_type": "code",
   "execution_count": 15,
   "metadata": {},
   "outputs": [
    {
     "data": {
      "text/plain": [
       "TV           0.7\n",
       "radio        0.0\n",
       "newspaper    0.3\n",
       "sales        1.6\n",
       "dtype: float64"
      ]
     },
     "execution_count": 15,
     "metadata": {},
     "output_type": "execute_result"
    }
   ],
   "source": [
    "df.min()"
   ]
  },
  {
   "cell_type": "code",
   "execution_count": 19,
   "metadata": {},
   "outputs": [
    {
     "data": {
      "text/plain": [
       "TV           295.7\n",
       "radio         49.6\n",
       "newspaper    113.7\n",
       "sales         25.4\n",
       "dtype: float64"
      ]
     },
     "execution_count": 19,
     "metadata": {},
     "output_type": "execute_result"
    }
   ],
   "source": [
    "range = df.max() - df.min()\n",
    "range"
   ]
  },
  {
   "cell_type": "markdown",
   "metadata": {
    "collapsed": true
   },
   "source": [
    "## Central Tendency\n",
    "\n",
    "Mean and Median."
   ]
  },
  {
   "cell_type": "code",
   "execution_count": 17,
   "metadata": {},
   "outputs": [
    {
     "data": {
      "text/plain": [
       "TV           147.0425\n",
       "radio         23.2640\n",
       "newspaper     30.5540\n",
       "sales         14.0225\n",
       "dtype: float64"
      ]
     },
     "execution_count": 17,
     "metadata": {},
     "output_type": "execute_result"
    }
   ],
   "source": [
    "df.mean()"
   ]
  },
  {
   "cell_type": "code",
   "execution_count": 18,
   "metadata": {},
   "outputs": [
    {
     "data": {
      "text/plain": [
       "TV           149.75\n",
       "radio         22.90\n",
       "newspaper     25.75\n",
       "sales         12.90\n",
       "dtype: float64"
      ]
     },
     "execution_count": 18,
     "metadata": {},
     "output_type": "execute_result"
    }
   ],
   "source": [
    "df.median()"
   ]
  },
  {
   "cell_type": "markdown",
   "metadata": {},
   "source": [
    "## Measures of spread\n",
    "\n",
    "Range, Variance, Standard deviation, Q1, Q2, Q3, Box-and-whisker plots and Histogram."
   ]
  },
  {
   "cell_type": "code",
   "execution_count": 20,
   "metadata": {},
   "outputs": [
    {
     "data": {
      "text/plain": [
       "TV           295.7\n",
       "radio         49.6\n",
       "newspaper    113.7\n",
       "sales         25.4\n",
       "dtype: float64"
      ]
     },
     "execution_count": 20,
     "metadata": {},
     "output_type": "execute_result"
    }
   ],
   "source": [
    "range = df.max() - df.min()\n",
    "range"
   ]
  },
  {
   "cell_type": "code",
   "execution_count": 27,
   "metadata": {},
   "outputs": [
    {
     "name": "stdout",
     "output_type": "stream",
     "text": [
      "TV           7334.095144\n",
      "radio         219.325604\n",
      "newspaper     471.936784\n",
      "sales          27.085744\n",
      "dtype: float64\n"
     ]
    }
   ],
   "source": [
    "variance = print(df.var(ddof=0))\n",
    "variance"
   ]
  },
  {
   "cell_type": "code",
   "execution_count": 35,
   "metadata": {},
   "outputs": [
    {
     "name": "stdout",
     "output_type": "stream",
     "text": [
      "the tv standard deviation is: 85.6393317582523\n",
      "the radio standard deviation is: 14.809645640595186\n",
      "the newspaper standard deviation is: 21.72410605755735\n",
      "the sales standard deviation is: 5.204396602873382\n"
     ]
    }
   ],
   "source": [
    "tv_standard_deviation = math.sqrt(7334.095144)\n",
    "print(\"the tv standard deviation is:\", tv_standard_deviation)\n",
    "radio_standard_deviation = math.sqrt(219.325604)\n",
    "print(\"the radio standard deviation is:\", radio_standard_deviation)\n",
    "newspaper_standard_deviation = math.sqrt(471.936784)\n",
    "print(\"the newspaper standard deviation is:\", newspaper_standard_deviation)\n",
    "sales_standard_deviation = math.sqrt(27.085744)\n",
    "print(\"the sales standard deviation is:\", sales_standard_deviation)"
   ]
  },
  {
   "cell_type": "code",
   "execution_count": 47,
   "metadata": {},
   "outputs": [
    {
     "name": "stdout",
     "output_type": "stream",
     "text": [
      " Q1 is\n",
      " TV           74.375\n",
      "radio         9.975\n",
      "newspaper    12.750\n",
      "sales        10.375\n",
      "Name: 0.25, dtype: float64\n",
      " Q2 is\n",
      " TV           149.75\n",
      "radio         22.90\n",
      "newspaper     25.75\n",
      "sales         12.90\n",
      "Name: 0.5, dtype: float64\n",
      " Q3 is\n",
      " TV           218.825\n",
      "radio         36.525\n",
      "newspaper     45.100\n",
      "sales         17.400\n",
      "Name: 0.75, dtype: float64\n",
      " IQR is\n",
      " TV           144.450\n",
      "radio         26.550\n",
      "newspaper     32.350\n",
      "sales          7.025\n",
      "dtype: float64\n"
     ]
    }
   ],
   "source": [
    "Q1 = df.quantile(0.25)\n",
    "Q2 = df.quantile(0.50)\n",
    "Q3 = df.quantile(0.75)\n",
    "IQR = Q3 - Q1\n",
    "\n",
    "print(\" Q1 is\\n\", Q1)\n",
    "print(\" Q2 is\\n\", Q2)\n",
    "print(\" Q3 is\\n\", Q3)\n",
    "print(\" IQR is\\n\",IQR)"
   ]
  },
  {
   "cell_type": "code",
   "execution_count": 49,
   "metadata": {},
   "outputs": [
    {
     "data": {
      "text/plain": [
       "<matplotlib.axes._subplots.AxesSubplot at 0x111cb2320>"
      ]
     },
     "execution_count": 49,
     "metadata": {},
     "output_type": "execute_result"
    },
    {
     "data": {
      "image/png": "[encoded data removed]",
      "text/plain": [
       "<matplotlib.figure.Figure at 0x111d0e588>"
      ]
     },
     "metadata": {},
     "output_type": "display_data"
    }
   ],
   "source": [
    "df.boxplot(column='TV', sym='o', return_type='axes')"
   ]
  },
  {
   "cell_type": "code",
   "execution_count": 50,
   "metadata": {},
   "outputs": [
    {
     "data": {
      "text/plain": [
       "<matplotlib.axes._subplots.AxesSubplot at 0x111e9d8d0>"
      ]
     },
     "execution_count": 50,
     "metadata": {},
     "output_type": "execute_result"
    },
    {
     "data": {
      "image/png": "[encoded data removed]",
      "text/plain": [
       "<matplotlib.figure.Figure at 0x111ea5048>"
      ]
     },
     "metadata": {},
     "output_type": "display_data"
    }
   ],
   "source": [
    "df.boxplot(column='radio', sym='o', return_type='axes')"
   ]
  },
  {
   "cell_type": "code",
   "execution_count": 52,
   "metadata": {},
   "outputs": [
    {
     "data": {
      "text/plain": [
       "<matplotlib.axes._subplots.AxesSubplot at 0x11208f4e0>"
      ]
     },
     "execution_count": 52,
     "metadata": {},
     "output_type": "execute_result"
    },
    {
     "data": {
      "image/png": "[encoded data removed]",
      "text/plain": [
       "<matplotlib.figure.Figure at 0x11218db70>"
      ]
     },
     "metadata": {},
     "output_type": "display_data"
    }
   ],
   "source": [
    "df.boxplot(column='newspaper', sym='o', return_type='axes')"
   ]
  },
  {
   "cell_type": "code",
   "execution_count": 54,
   "metadata": {},
   "outputs": [
    {
     "data": {
      "text/plain": [
       "<matplotlib.axes._subplots.AxesSubplot at 0x11230ce10>"
      ]
     },
     "execution_count": 54,
     "metadata": {},
     "output_type": "execute_result"
    },
    {
     "data": {
      "image/png": "[encoded data removed]",
      "text/plain": [
       "<matplotlib.figure.Figure at 0x1124999e8>"
      ]
     },
     "metadata": {},
     "output_type": "display_data"
    }
   ],
   "source": [
    "df['TV'].hist(bins=25)"
   ]
  },
  {
   "cell_type": "code",
   "execution_count": 55,
   "metadata": {},
   "outputs": [
    {
     "data": {
      "text/plain": [
       "<matplotlib.axes._subplots.AxesSubplot at 0x1126d44a8>"
      ]
     },
     "execution_count": 55,
     "metadata": {},
     "output_type": "execute_result"
    },
    {
     "data": {
      "image/png": "[encoded data removed]",
      "text/plain": [
       "<matplotlib.figure.Figure at 0x1126372e8>"
      ]
     },
     "metadata": {},
     "output_type": "display_data"
    }
   ],
   "source": [
    "df['radio'].hist(bins=25)"
   ]
  },
  {
   "cell_type": "code",
   "execution_count": 56,
   "metadata": {},
   "outputs": [
    {
     "data": {
      "text/plain": [
       "<matplotlib.axes._subplots.AxesSubplot at 0x112871518>"
      ]
     },
     "execution_count": 56,
     "metadata": {},
     "output_type": "execute_result"
    },
    {
     "data": {
      "image/png": "[encoded data removed]",
      "text/plain": [
       "<matplotlib.figure.Figure at 0x112881048>"
      ]
     },
     "metadata": {},
     "output_type": "display_data"
    }
   ],
   "source": [
    "df['newspaper'].hist(bins=25)"
   ]
  },
  {
   "cell_type": "markdown",
   "metadata": {},
   "source": [
    "## Finding outliers"
   ]
  },
  {
   "cell_type": "code",
   "execution_count": 67,
   "metadata": {},
   "outputs": [],
   "source": [
    "df['TV_std'] = ((df['TV'] - df['TV'].mean()).apply(abs) / df['TV'].std())"
   ]
  },
  {
   "cell_type": "code",
   "execution_count": 70,
   "metadata": {},
   "outputs": [
    {
     "data": {
      "text/html": [
       "<div>\n",
       "<style>\n",
       "    .dataframe thead tr:only-child th {\n",
       "        text-align: right;\n",
       "    }\n",
       "\n",
       "    .dataframe thead th {\n",
       "        text-align: left;\n",
       "    }\n",
       "\n",
       "    .dataframe tbody tr th {\n",
       "        vertical-align: top;\n",
       "    }\n",
       "</style>\n",
       "<table border=\"1\" class=\"dataframe\">\n",
       "  <thead>\n",
       "    <tr style=\"text-align: right;\">\n",
       "      <th></th>\n",
       "      <th>TV</th>\n",
       "      <th>radio</th>\n",
       "      <th>newspaper</th>\n",
       "      <th>sales</th>\n",
       "      <th>TV_std</th>\n",
       "    </tr>\n",
       "  </thead>\n",
       "  <tbody>\n",
       "    <tr>\n",
       "      <th>131</th>\n",
       "      <td>0.7</td>\n",
       "      <td>39.6</td>\n",
       "      <td>8.7</td>\n",
       "      <td>1.6</td>\n",
       "      <td>1.704546</td>\n",
       "    </tr>\n",
       "    <tr>\n",
       "      <th>156</th>\n",
       "      <td>4.1</td>\n",
       "      <td>11.6</td>\n",
       "      <td>5.7</td>\n",
       "      <td>3.2</td>\n",
       "      <td>1.664944</td>\n",
       "    </tr>\n",
       "    <tr>\n",
       "      <th>79</th>\n",
       "      <td>5.4</td>\n",
       "      <td>29.9</td>\n",
       "      <td>9.4</td>\n",
       "      <td>5.3</td>\n",
       "      <td>1.649802</td>\n",
       "    </tr>\n",
       "    <tr>\n",
       "      <th>57</th>\n",
       "      <td>7.3</td>\n",
       "      <td>28.1</td>\n",
       "      <td>41.4</td>\n",
       "      <td>5.5</td>\n",
       "      <td>1.627672</td>\n",
       "    </tr>\n",
       "    <tr>\n",
       "      <th>127</th>\n",
       "      <td>7.8</td>\n",
       "      <td>38.9</td>\n",
       "      <td>50.6</td>\n",
       "      <td>6.6</td>\n",
       "      <td>1.621848</td>\n",
       "    </tr>\n",
       "    <tr>\n",
       "      <th>133</th>\n",
       "      <td>8.4</td>\n",
       "      <td>27.2</td>\n",
       "      <td>2.1</td>\n",
       "      <td>5.7</td>\n",
       "      <td>1.614859</td>\n",
       "    </tr>\n",
       "    <tr>\n",
       "      <th>9</th>\n",
       "      <td>8.6</td>\n",
       "      <td>2.1</td>\n",
       "      <td>1.0</td>\n",
       "      <td>4.8</td>\n",
       "      <td>1.612530</td>\n",
       "    </tr>\n",
       "    <tr>\n",
       "      <th>6</th>\n",
       "      <td>8.7</td>\n",
       "      <td>48.9</td>\n",
       "      <td>75.0</td>\n",
       "      <td>7.2</td>\n",
       "      <td>1.611365</td>\n",
       "    </tr>\n",
       "    <tr>\n",
       "      <th>159</th>\n",
       "      <td>11.7</td>\n",
       "      <td>36.9</td>\n",
       "      <td>45.2</td>\n",
       "      <td>7.3</td>\n",
       "      <td>1.576422</td>\n",
       "    </tr>\n",
       "    <tr>\n",
       "      <th>109</th>\n",
       "      <td>13.1</td>\n",
       "      <td>0.4</td>\n",
       "      <td>25.6</td>\n",
       "      <td>5.3</td>\n",
       "      <td>1.560115</td>\n",
       "    </tr>\n",
       "  </tbody>\n",
       "</table>\n",
       "</div>"
      ],
      "text/plain": [
       "       TV  radio  newspaper  sales    TV_std\n",
       "131   0.7   39.6        8.7    1.6  1.704546\n",
       "156   4.1   11.6        5.7    3.2  1.664944\n",
       "79    5.4   29.9        9.4    5.3  1.649802\n",
       "57    7.3   28.1       41.4    5.5  1.627672\n",
       "127   7.8   38.9       50.6    6.6  1.621848\n",
       "133   8.4   27.2        2.1    5.7  1.614859\n",
       "9     8.6    2.1        1.0    4.8  1.612530\n",
       "6     8.7   48.9       75.0    7.2  1.611365\n",
       "159  11.7   36.9       45.2    7.3  1.576422\n",
       "109  13.1    0.4       25.6    5.3  1.560115"
      ]
     },
     "execution_count": 70,
     "metadata": {},
     "output_type": "execute_result"
    }
   ],
   "source": [
    "df.sort_values(by='TV', ascending=True).head(10)"
   ]
  },
  {
   "cell_type": "code",
   "execution_count": 71,
   "metadata": {
    "collapsed": true
   },
   "outputs": [],
   "source": [
    "df['radio_std'] = ((df['radio'] - df['radio'].mean()).apply(abs) / df['radio'].std())"
   ]
  },
  {
   "cell_type": "code",
   "execution_count": 75,
   "metadata": {},
   "outputs": [
    {
     "data": {
      "text/html": [
       "<div>\n",
       "<style>\n",
       "    .dataframe thead tr:only-child th {\n",
       "        text-align: right;\n",
       "    }\n",
       "\n",
       "    .dataframe thead th {\n",
       "        text-align: left;\n",
       "    }\n",
       "\n",
       "    .dataframe tbody tr th {\n",
       "        vertical-align: top;\n",
       "    }\n",
       "</style>\n",
       "<table border=\"1\" class=\"dataframe\">\n",
       "  <thead>\n",
       "    <tr style=\"text-align: right;\">\n",
       "      <th></th>\n",
       "      <th>TV</th>\n",
       "      <th>radio</th>\n",
       "      <th>newspaper</th>\n",
       "      <th>sales</th>\n",
       "      <th>TV_std</th>\n",
       "      <th>radio_std</th>\n",
       "      <th>newspaper_std</th>\n",
       "    </tr>\n",
       "  </thead>\n",
       "  <tbody>\n",
       "    <tr>\n",
       "      <th>59</th>\n",
       "      <td>210.8</td>\n",
       "      <td>49.6</td>\n",
       "      <td>37.7</td>\n",
       "      <td>23.8</td>\n",
       "      <td>0.742625</td>\n",
       "      <td>1.773849</td>\n",
       "      <td>0.328120</td>\n",
       "    </tr>\n",
       "    <tr>\n",
       "      <th>38</th>\n",
       "      <td>74.7</td>\n",
       "      <td>49.4</td>\n",
       "      <td>45.7</td>\n",
       "      <td>14.7</td>\n",
       "      <td>0.842620</td>\n",
       "      <td>1.760378</td>\n",
       "      <td>0.695453</td>\n",
       "    </tr>\n",
       "    <tr>\n",
       "      <th>56</th>\n",
       "      <td>198.9</td>\n",
       "      <td>49.4</td>\n",
       "      <td>60.0</td>\n",
       "      <td>23.7</td>\n",
       "      <td>0.604018</td>\n",
       "      <td>1.760378</td>\n",
       "      <td>1.352060</td>\n",
       "    </tr>\n",
       "    <tr>\n",
       "      <th>129</th>\n",
       "      <td>220.3</td>\n",
       "      <td>49.0</td>\n",
       "      <td>3.2</td>\n",
       "      <td>24.7</td>\n",
       "      <td>0.853278</td>\n",
       "      <td>1.733436</td>\n",
       "      <td>1.256002</td>\n",
       "    </tr>\n",
       "    <tr>\n",
       "      <th>148</th>\n",
       "      <td>243.2</td>\n",
       "      <td>49.0</td>\n",
       "      <td>44.3</td>\n",
       "      <td>25.4</td>\n",
       "      <td>1.120009</td>\n",
       "      <td>1.733436</td>\n",
       "      <td>0.631169</td>\n",
       "    </tr>\n",
       "    <tr>\n",
       "      <th>6</th>\n",
       "      <td>8.7</td>\n",
       "      <td>48.9</td>\n",
       "      <td>75.0</td>\n",
       "      <td>7.2</td>\n",
       "      <td>1.611365</td>\n",
       "      <td>1.726701</td>\n",
       "      <td>2.040809</td>\n",
       "    </tr>\n",
       "    <tr>\n",
       "      <th>176</th>\n",
       "      <td>276.9</td>\n",
       "      <td>48.9</td>\n",
       "      <td>41.8</td>\n",
       "      <td>27.0</td>\n",
       "      <td>1.512535</td>\n",
       "      <td>1.726701</td>\n",
       "      <td>0.516378</td>\n",
       "    </tr>\n",
       "    <tr>\n",
       "      <th>90</th>\n",
       "      <td>109.8</td>\n",
       "      <td>47.8</td>\n",
       "      <td>51.4</td>\n",
       "      <td>16.7</td>\n",
       "      <td>0.433788</td>\n",
       "      <td>1.652611</td>\n",
       "      <td>0.957177</td>\n",
       "    </tr>\n",
       "    <tr>\n",
       "      <th>16</th>\n",
       "      <td>195.4</td>\n",
       "      <td>47.7</td>\n",
       "      <td>52.9</td>\n",
       "      <td>22.4</td>\n",
       "      <td>0.563251</td>\n",
       "      <td>1.645876</td>\n",
       "      <td>1.026052</td>\n",
       "    </tr>\n",
       "    <tr>\n",
       "      <th>136</th>\n",
       "      <td>48.3</td>\n",
       "      <td>47.0</td>\n",
       "      <td>8.5</td>\n",
       "      <td>11.6</td>\n",
       "      <td>1.150118</td>\n",
       "      <td>1.598727</td>\n",
       "      <td>1.012644</td>\n",
       "    </tr>\n",
       "  </tbody>\n",
       "</table>\n",
       "</div>"
      ],
      "text/plain": [
       "        TV  radio  newspaper  sales    TV_std  radio_std  newspaper_std\n",
       "59   210.8   49.6       37.7   23.8  0.742625   1.773849       0.328120\n",
       "38    74.7   49.4       45.7   14.7  0.842620   1.760378       0.695453\n",
       "56   198.9   49.4       60.0   23.7  0.604018   1.760378       1.352060\n",
       "129  220.3   49.0        3.2   24.7  0.853278   1.733436       1.256002\n",
       "148  243.2   49.0       44.3   25.4  1.120009   1.733436       0.631169\n",
       "6      8.7   48.9       75.0    7.2  1.611365   1.726701       2.040809\n",
       "176  276.9   48.9       41.8   27.0  1.512535   1.726701       0.516378\n",
       "90   109.8   47.8       51.4   16.7  0.433788   1.652611       0.957177\n",
       "16   195.4   47.7       52.9   22.4  0.563251   1.645876       1.026052\n",
       "136   48.3   47.0        8.5   11.6  1.150118   1.598727       1.012644"
      ]
     },
     "execution_count": 75,
     "metadata": {},
     "output_type": "execute_result"
    }
   ],
   "source": [
    "df.sort_values(by='radio', ascending=False).head(10)"
   ]
  },
  {
   "cell_type": "code",
   "execution_count": 73,
   "metadata": {
    "collapsed": true
   },
   "outputs": [],
   "source": [
    "df['newspaper_std'] = ((df['newspaper'] - df['newspaper'].mean()).apply(abs) / df['newspaper'].std())"
   ]
  },
  {
   "cell_type": "code",
   "execution_count": 76,
   "metadata": {},
   "outputs": [
    {
     "data": {
      "text/html": [
       "<div>\n",
       "<style>\n",
       "    .dataframe thead tr:only-child th {\n",
       "        text-align: right;\n",
       "    }\n",
       "\n",
       "    .dataframe thead th {\n",
       "        text-align: left;\n",
       "    }\n",
       "\n",
       "    .dataframe tbody tr th {\n",
       "        vertical-align: top;\n",
       "    }\n",
       "</style>\n",
       "<table border=\"1\" class=\"dataframe\">\n",
       "  <thead>\n",
       "    <tr style=\"text-align: right;\">\n",
       "      <th></th>\n",
       "      <th>TV</th>\n",
       "      <th>radio</th>\n",
       "      <th>newspaper</th>\n",
       "      <th>sales</th>\n",
       "      <th>TV_std</th>\n",
       "      <th>radio_std</th>\n",
       "      <th>newspaper_std</th>\n",
       "    </tr>\n",
       "  </thead>\n",
       "  <tbody>\n",
       "    <tr>\n",
       "      <th>17</th>\n",
       "      <td>67.8</td>\n",
       "      <td>36.6</td>\n",
       "      <td>114.0</td>\n",
       "      <td>12.5</td>\n",
       "      <td>0.922989</td>\n",
       "      <td>0.898240</td>\n",
       "      <td>3.831556</td>\n",
       "    </tr>\n",
       "    <tr>\n",
       "      <th>102</th>\n",
       "      <td>296.4</td>\n",
       "      <td>36.3</td>\n",
       "      <td>100.9</td>\n",
       "      <td>23.8</td>\n",
       "      <td>1.739664</td>\n",
       "      <td>0.878034</td>\n",
       "      <td>3.230048</td>\n",
       "    </tr>\n",
       "    <tr>\n",
       "      <th>76</th>\n",
       "      <td>16.9</td>\n",
       "      <td>43.7</td>\n",
       "      <td>89.4</td>\n",
       "      <td>8.7</td>\n",
       "      <td>1.515854</td>\n",
       "      <td>1.376457</td>\n",
       "      <td>2.702008</td>\n",
       "    </tr>\n",
       "    <tr>\n",
       "      <th>166</th>\n",
       "      <td>234.5</td>\n",
       "      <td>3.4</td>\n",
       "      <td>84.8</td>\n",
       "      <td>11.9</td>\n",
       "      <td>1.018674</td>\n",
       "      <td>1.337931</td>\n",
       "      <td>2.490791</td>\n",
       "    </tr>\n",
       "    <tr>\n",
       "      <th>119</th>\n",
       "      <td>125.7</td>\n",
       "      <td>36.9</td>\n",
       "      <td>79.2</td>\n",
       "      <td>15.9</td>\n",
       "      <td>0.248590</td>\n",
       "      <td>0.918447</td>\n",
       "      <td>2.233658</td>\n",
       "    </tr>\n",
       "    <tr>\n",
       "      <th>142</th>\n",
       "      <td>193.7</td>\n",
       "      <td>35.4</td>\n",
       "      <td>75.6</td>\n",
       "      <td>19.2</td>\n",
       "      <td>0.543450</td>\n",
       "      <td>0.817415</td>\n",
       "      <td>2.068359</td>\n",
       "    </tr>\n",
       "    <tr>\n",
       "      <th>6</th>\n",
       "      <td>8.7</td>\n",
       "      <td>48.9</td>\n",
       "      <td>75.0</td>\n",
       "      <td>7.2</td>\n",
       "      <td>1.611365</td>\n",
       "      <td>1.726701</td>\n",
       "      <td>2.040809</td>\n",
       "    </tr>\n",
       "    <tr>\n",
       "      <th>125</th>\n",
       "      <td>229.5</td>\n",
       "      <td>32.3</td>\n",
       "      <td>74.2</td>\n",
       "      <td>19.7</td>\n",
       "      <td>0.960436</td>\n",
       "      <td>0.608616</td>\n",
       "      <td>2.004075</td>\n",
       "    </tr>\n",
       "    <tr>\n",
       "      <th>89</th>\n",
       "      <td>88.3</td>\n",
       "      <td>25.5</td>\n",
       "      <td>73.4</td>\n",
       "      <td>12.9</td>\n",
       "      <td>0.684212</td>\n",
       "      <td>0.150605</td>\n",
       "      <td>1.967342</td>\n",
       "    </tr>\n",
       "    <tr>\n",
       "      <th>94</th>\n",
       "      <td>250.9</td>\n",
       "      <td>36.5</td>\n",
       "      <td>72.3</td>\n",
       "      <td>22.2</td>\n",
       "      <td>1.209696</td>\n",
       "      <td>0.891505</td>\n",
       "      <td>1.916834</td>\n",
       "    </tr>\n",
       "  </tbody>\n",
       "</table>\n",
       "</div>"
      ],
      "text/plain": [
       "        TV  radio  newspaper  sales    TV_std  radio_std  newspaper_std\n",
       "17    67.8   36.6      114.0   12.5  0.922989   0.898240       3.831556\n",
       "102  296.4   36.3      100.9   23.8  1.739664   0.878034       3.230048\n",
       "76    16.9   43.7       89.4    8.7  1.515854   1.376457       2.702008\n",
       "166  234.5    3.4       84.8   11.9  1.018674   1.337931       2.490791\n",
       "119  125.7   36.9       79.2   15.9  0.248590   0.918447       2.233658\n",
       "142  193.7   35.4       75.6   19.2  0.543450   0.817415       2.068359\n",
       "6      8.7   48.9       75.0    7.2  1.611365   1.726701       2.040809\n",
       "125  229.5   32.3       74.2   19.7  0.960436   0.608616       2.004075\n",
       "89    88.3   25.5       73.4   12.9  0.684212   0.150605       1.967342\n",
       "94   250.9   36.5       72.3   22.2  1.209696   0.891505       1.916834"
      ]
     },
     "execution_count": 76,
     "metadata": {},
     "output_type": "execute_result"
    }
   ],
   "source": [
    "df.sort_values(by='newspaper', ascending=False).head(10)"
   ]
  },
  {
   "cell_type": "markdown",
   "metadata": {},
   "source": [
    "## Skewness and Kurtosis"
   ]
  },
  {
   "cell_type": "code",
   "execution_count": 81,
   "metadata": {},
   "outputs": [
    {
     "data": {
      "text/plain": [
       "-0.069853362132745733"
      ]
     },
     "execution_count": 81,
     "metadata": {},
     "output_type": "execute_result"
    }
   ],
   "source": [
    "df['TV'].skew()"
   ]
  },
  {
   "cell_type": "code",
   "execution_count": 82,
   "metadata": {},
   "outputs": [
    {
     "data": {
      "text/plain": [
       "-1.2264948242299691"
      ]
     },
     "execution_count": 82,
     "metadata": {},
     "output_type": "execute_result"
    }
   ],
   "source": [
    "df['TV'].kurt()"
   ]
  },
  {
   "cell_type": "code",
   "execution_count": 83,
   "metadata": {},
   "outputs": [
    {
     "data": {
      "text/plain": [
       "0.09417463149664404"
      ]
     },
     "execution_count": 83,
     "metadata": {},
     "output_type": "execute_result"
    }
   ],
   "source": [
    "df['radio'].skew()"
   ]
  },
  {
   "cell_type": "code",
   "execution_count": 84,
   "metadata": {},
   "outputs": [
    {
     "data": {
      "text/plain": [
       "-1.2604014033120108"
      ]
     },
     "execution_count": 84,
     "metadata": {},
     "output_type": "execute_result"
    }
   ],
   "source": [
    "df['radio'].kurt()"
   ]
  },
  {
   "cell_type": "code",
   "execution_count": 85,
   "metadata": {},
   "outputs": [
    {
     "data": {
      "text/plain": [
       "0.89472040749861748"
      ]
     },
     "execution_count": 85,
     "metadata": {},
     "output_type": "execute_result"
    }
   ],
   "source": [
    "df['newspaper'].skew()"
   ]
  },
  {
   "cell_type": "code",
   "execution_count": 86,
   "metadata": {},
   "outputs": [
    {
     "data": {
      "text/plain": [
       "0.64950190913810069"
      ]
     },
     "execution_count": 86,
     "metadata": {},
     "output_type": "execute_result"
    }
   ],
   "source": [
    "df['newspaper'].kurt()"
   ]
  },
  {
   "cell_type": "markdown",
   "metadata": {},
   "source": [
    "## Question: Which variable set has the larger standard deviation? What is its impact?"
   ]
  }
 ],
 "metadata": {
  "kernelspec": {
   "display_name": "Python 3",
   "language": "python",
   "name": "python3"
  },
  "language_info": {
   "codemirror_mode": {
    "name": "ipython",
    "version": 3
   },
   "file_extension": ".py",
   "mimetype": "text/x-python",
   "name": "python",
   "nbconvert_exporter": "python",
   "pygments_lexer": "ipython3",
   "version": "3.6.1"
  }
 },
 "nbformat": 4,
 "nbformat_minor": 2
}
