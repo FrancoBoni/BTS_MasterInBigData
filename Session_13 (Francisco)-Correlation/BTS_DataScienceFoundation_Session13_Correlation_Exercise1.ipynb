{
 "cells": [
  {
   "cell_type": "markdown",
   "metadata": {},
   "source": [
    "# Subject: Data Science Foundation\n",
    "\n",
    "## Session 13 - Correlation in Python.\n",
    "\n",
    "### Exercise 1 -  Calculating Correlation in Pandas\n"
   ]
  },
  {
   "cell_type": "markdown",
   "metadata": {},
   "source": [
    "We will be using a dataset \"Advertising\". Calculate the Pearson correlation of sales with TV, radio and newspaper."
   ]
  },
  {
   "cell_type": "code",
   "execution_count": 2,
   "metadata": {
    "scrolled": false
   },
   "outputs": [
    {
     "data": {
      "text/html": [
       "<div>\n",
       "<style>\n",
       "    .dataframe thead tr:only-child th {\n",
       "        text-align: right;\n",
       "    }\n",
       "\n",
       "    .dataframe thead th {\n",
       "        text-align: left;\n",
       "    }\n",
       "\n",
       "    .dataframe tbody tr th {\n",
       "        vertical-align: top;\n",
       "    }\n",
       "</style>\n",
       "<table border=\"1\" class=\"dataframe\">\n",
       "  <thead>\n",
       "    <tr style=\"text-align: right;\">\n",
       "      <th></th>\n",
       "      <th>TV</th>\n",
       "      <th>radio</th>\n",
       "      <th>newspaper</th>\n",
       "      <th>sales</th>\n",
       "    </tr>\n",
       "  </thead>\n",
       "  <tbody>\n",
       "    <tr>\n",
       "      <th>1</th>\n",
       "      <td>230.1</td>\n",
       "      <td>37.8</td>\n",
       "      <td>69.2</td>\n",
       "      <td>22.1</td>\n",
       "    </tr>\n",
       "    <tr>\n",
       "      <th>2</th>\n",
       "      <td>44.5</td>\n",
       "      <td>39.3</td>\n",
       "      <td>45.1</td>\n",
       "      <td>10.4</td>\n",
       "    </tr>\n",
       "    <tr>\n",
       "      <th>3</th>\n",
       "      <td>17.2</td>\n",
       "      <td>45.9</td>\n",
       "      <td>69.3</td>\n",
       "      <td>9.3</td>\n",
       "    </tr>\n",
       "    <tr>\n",
       "      <th>4</th>\n",
       "      <td>151.5</td>\n",
       "      <td>41.3</td>\n",
       "      <td>58.5</td>\n",
       "      <td>18.5</td>\n",
       "    </tr>\n",
       "    <tr>\n",
       "      <th>5</th>\n",
       "      <td>180.8</td>\n",
       "      <td>10.8</td>\n",
       "      <td>58.4</td>\n",
       "      <td>12.9</td>\n",
       "    </tr>\n",
       "  </tbody>\n",
       "</table>\n",
       "</div>"
      ],
      "text/plain": [
       "      TV  radio  newspaper  sales\n",
       "1  230.1   37.8       69.2   22.1\n",
       "2   44.5   39.3       45.1   10.4\n",
       "3   17.2   45.9       69.3    9.3\n",
       "4  151.5   41.3       58.5   18.5\n",
       "5  180.8   10.8       58.4   12.9"
      ]
     },
     "execution_count": 2,
     "metadata": {},
     "output_type": "execute_result"
    }
   ],
   "source": [
    "import pandas as pd\n",
    "import numpy as np\n",
    "import seaborn as sns\n",
    "import matplotlib.pyplot as plt\n",
    "%matplotlib inline\n",
    "data = pd.read_csv('http://www-bcf.usc.edu/~gareth/ISL/Advertising.csv', index_col=0)\n",
    "data.head()"
   ]
  },
  {
   "cell_type": "code",
   "execution_count": 4,
   "metadata": {},
   "outputs": [
    {
     "data": {
      "text/html": [
       "<div>\n",
       "<style>\n",
       "    .dataframe thead tr:only-child th {\n",
       "        text-align: right;\n",
       "    }\n",
       "\n",
       "    .dataframe thead th {\n",
       "        text-align: left;\n",
       "    }\n",
       "\n",
       "    .dataframe tbody tr th {\n",
       "        vertical-align: top;\n",
       "    }\n",
       "</style>\n",
       "<table border=\"1\" class=\"dataframe\">\n",
       "  <thead>\n",
       "    <tr style=\"text-align: right;\">\n",
       "      <th></th>\n",
       "      <th>TV</th>\n",
       "      <th>radio</th>\n",
       "      <th>newspaper</th>\n",
       "      <th>sales</th>\n",
       "    </tr>\n",
       "  </thead>\n",
       "  <tbody>\n",
       "    <tr>\n",
       "      <th>TV</th>\n",
       "      <td>1.000000</td>\n",
       "      <td>0.056123</td>\n",
       "      <td>0.050840</td>\n",
       "      <td>0.800614</td>\n",
       "    </tr>\n",
       "    <tr>\n",
       "      <th>radio</th>\n",
       "      <td>0.056123</td>\n",
       "      <td>1.000000</td>\n",
       "      <td>0.316979</td>\n",
       "      <td>0.554304</td>\n",
       "    </tr>\n",
       "    <tr>\n",
       "      <th>newspaper</th>\n",
       "      <td>0.050840</td>\n",
       "      <td>0.316979</td>\n",
       "      <td>1.000000</td>\n",
       "      <td>0.194922</td>\n",
       "    </tr>\n",
       "    <tr>\n",
       "      <th>sales</th>\n",
       "      <td>0.800614</td>\n",
       "      <td>0.554304</td>\n",
       "      <td>0.194922</td>\n",
       "      <td>1.000000</td>\n",
       "    </tr>\n",
       "  </tbody>\n",
       "</table>\n",
       "</div>"
      ],
      "text/plain": [
       "                 TV     radio  newspaper     sales\n",
       "TV         1.000000  0.056123   0.050840  0.800614\n",
       "radio      0.056123  1.000000   0.316979  0.554304\n",
       "newspaper  0.050840  0.316979   1.000000  0.194922\n",
       "sales      0.800614  0.554304   0.194922  1.000000"
      ]
     },
     "execution_count": 4,
     "metadata": {},
     "output_type": "execute_result"
    }
   ],
   "source": [
    "# pairwise correlation\n",
    "# el drop hace que no se usen esas columnas\n",
    "data.corr(method='spearman')"
   ]
  },
  {
   "cell_type": "code",
   "execution_count": 6,
   "metadata": {},
   "outputs": [
    {
     "data": {
      "text/html": [
       "<style  type=\"text/css\" >\n",
       "    #T_089bcca6_c864_11e7_b3ea_acde48001122row0_col0 {\n",
       "            background-color:  #b40426;\n",
       "        }    #T_089bcca6_c864_11e7_b3ea_acde48001122row0_col1 {\n",
       "            background-color:  #3b4cc0;\n",
       "        }    #T_089bcca6_c864_11e7_b3ea_acde48001122row0_col2 {\n",
       "            background-color:  #3b4cc0;\n",
       "        }    #T_089bcca6_c864_11e7_b3ea_acde48001122row0_col3 {\n",
       "            background-color:  #f29072;\n",
       "        }    #T_089bcca6_c864_11e7_b3ea_acde48001122row1_col0 {\n",
       "            background-color:  #3b4cc0;\n",
       "        }    #T_089bcca6_c864_11e7_b3ea_acde48001122row1_col1 {\n",
       "            background-color:  #b40426;\n",
       "        }    #T_089bcca6_c864_11e7_b3ea_acde48001122row1_col2 {\n",
       "            background-color:  #a5c3fe;\n",
       "        }    #T_089bcca6_c864_11e7_b3ea_acde48001122row1_col3 {\n",
       "            background-color:  #ead5c9;\n",
       "        }    #T_089bcca6_c864_11e7_b3ea_acde48001122row2_col0 {\n",
       "            background-color:  #3b4cc0;\n",
       "        }    #T_089bcca6_c864_11e7_b3ea_acde48001122row2_col1 {\n",
       "            background-color:  #a3c2fe;\n",
       "        }    #T_089bcca6_c864_11e7_b3ea_acde48001122row2_col2 {\n",
       "            background-color:  #b40426;\n",
       "        }    #T_089bcca6_c864_11e7_b3ea_acde48001122row2_col3 {\n",
       "            background-color:  #7597f6;\n",
       "        }    #T_089bcca6_c864_11e7_b3ea_acde48001122row3_col0 {\n",
       "            background-color:  #f7a688;\n",
       "        }    #T_089bcca6_c864_11e7_b3ea_acde48001122row3_col1 {\n",
       "            background-color:  #cfdaea;\n",
       "        }    #T_089bcca6_c864_11e7_b3ea_acde48001122row3_col2 {\n",
       "            background-color:  #3b4cc0;\n",
       "        }    #T_089bcca6_c864_11e7_b3ea_acde48001122row3_col3 {\n",
       "            background-color:  #b40426;\n",
       "        }</style>  \n",
       "<table id=\"T_089bcca6_c864_11e7_b3ea_acde48001122\" > \n",
       "<thead>    <tr> \n",
       "        <th class=\"blank level0\" ></th> \n",
       "        <th class=\"col_heading level0 col0\" >TV</th> \n",
       "        <th class=\"col_heading level0 col1\" >radio</th> \n",
       "        <th class=\"col_heading level0 col2\" >newspaper</th> \n",
       "        <th class=\"col_heading level0 col3\" >sales</th> \n",
       "    </tr></thead> \n",
       "<tbody>    <tr> \n",
       "        <th id=\"T_089bcca6_c864_11e7_b3ea_acde48001122\" class=\"row_heading level0 row0\" >TV</th> \n",
       "        <td id=\"T_089bcca6_c864_11e7_b3ea_acde48001122row0_col0\" class=\"data row0 col0\" >1.0</td> \n",
       "        <td id=\"T_089bcca6_c864_11e7_b3ea_acde48001122row0_col1\" class=\"data row0 col1\" >0.055</td> \n",
       "        <td id=\"T_089bcca6_c864_11e7_b3ea_acde48001122row0_col2\" class=\"data row0 col2\" >0.057</td> \n",
       "        <td id=\"T_089bcca6_c864_11e7_b3ea_acde48001122row0_col3\" class=\"data row0 col3\" >0.78</td> \n",
       "    </tr>    <tr> \n",
       "        <th id=\"T_089bcca6_c864_11e7_b3ea_acde48001122\" class=\"row_heading level0 row1\" >radio</th> \n",
       "        <td id=\"T_089bcca6_c864_11e7_b3ea_acde48001122row1_col0\" class=\"data row1 col0\" >0.055</td> \n",
       "        <td id=\"T_089bcca6_c864_11e7_b3ea_acde48001122row1_col1\" class=\"data row1 col1\" >1.0</td> \n",
       "        <td id=\"T_089bcca6_c864_11e7_b3ea_acde48001122row1_col2\" class=\"data row1 col2\" >0.35</td> \n",
       "        <td id=\"T_089bcca6_c864_11e7_b3ea_acde48001122row1_col3\" class=\"data row1 col3\" >0.58</td> \n",
       "    </tr>    <tr> \n",
       "        <th id=\"T_089bcca6_c864_11e7_b3ea_acde48001122\" class=\"row_heading level0 row2\" >newspaper</th> \n",
       "        <td id=\"T_089bcca6_c864_11e7_b3ea_acde48001122row2_col0\" class=\"data row2 col0\" >0.057</td> \n",
       "        <td id=\"T_089bcca6_c864_11e7_b3ea_acde48001122row2_col1\" class=\"data row2 col1\" >0.35</td> \n",
       "        <td id=\"T_089bcca6_c864_11e7_b3ea_acde48001122row2_col2\" class=\"data row2 col2\" >1.0</td> \n",
       "        <td id=\"T_089bcca6_c864_11e7_b3ea_acde48001122row2_col3\" class=\"data row2 col3\" >0.23</td> \n",
       "    </tr>    <tr> \n",
       "        <th id=\"T_089bcca6_c864_11e7_b3ea_acde48001122\" class=\"row_heading level0 row3\" >sales</th> \n",
       "        <td id=\"T_089bcca6_c864_11e7_b3ea_acde48001122row3_col0\" class=\"data row3 col0\" >0.78</td> \n",
       "        <td id=\"T_089bcca6_c864_11e7_b3ea_acde48001122row3_col1\" class=\"data row3 col1\" >0.58</td> \n",
       "        <td id=\"T_089bcca6_c864_11e7_b3ea_acde48001122row3_col2\" class=\"data row3 col2\" >0.23</td> \n",
       "        <td id=\"T_089bcca6_c864_11e7_b3ea_acde48001122row3_col3\" class=\"data row3 col3\" >1.0</td> \n",
       "    </tr></tbody> \n",
       "</table> "
      ],
      "text/plain": [
       "<pandas.io.formats.style.Styler at 0x111d1a470>"
      ]
     },
     "execution_count": 6,
     "metadata": {},
     "output_type": "execute_result"
    }
   ],
   "source": [
    "data.corr(method='pearson').style.format(\"{:.2}\").background_gradient(cmap=plt.get_cmap('coolwarm'), axis=1)"
   ]
  },
  {
   "cell_type": "code",
   "execution_count": 7,
   "metadata": {},
   "outputs": [
    {
     "data": {
      "text/plain": [
       "<matplotlib.axes._subplots.AxesSubplot at 0x111d21f28>"
      ]
     },
     "execution_count": 7,
     "metadata": {},
     "output_type": "execute_result"
    },
    {
     "data": {
      "image/png": "[encoded data removed]",
      "text/plain": [
       "<matplotlib.figure.Figure at 0x1066ac1d0>"
      ]
     },
     "metadata": {},
     "output_type": "display_data"
    }
   ],
   "source": [
    "# Compute the correlation matrix\n",
    "\n",
    "corr = data.corr(method='pearson')\n",
    "\n",
    "# Generate a mask for the upper triangle\n",
    "mask = np.zeros_like(corr, dtype=np.bool)\n",
    "mask[np.triu_indices_from(mask)] = True\n",
    "\n",
    "# Set up the matplotlib figure\n",
    "f, ax = plt.subplots(figsize=(11, 9))\n",
    "\n",
    "# Generate a custom diverging colormap\n",
    "cmap = sns.diverging_palette(220, 10, as_cmap=True)\n",
    "\n",
    "# Draw the heatmap with the mask and correct aspect ratio\n",
    "sns.heatmap(corr, mask=mask, cmap=cmap, vmax=.3, center=0,\n",
    "            square=True, linewidths=.5, cbar_kws={\"shrink\": .5})"
   ]
  },
  {
   "cell_type": "markdown",
   "metadata": {},
   "source": [
    "# Conclusion: "
   ]
  },
  {
   "cell_type": "markdown",
   "metadata": {},
   "source": [
    "There is a high correlation for sales when an investment in TV. Nevertheless, radio has a weight too in terms of how they affect sales."
   ]
  }
 ],
 "metadata": {
  "kernelspec": {
   "display_name": "Python 3",
   "language": "python",
   "name": "python3"
  },
  "language_info": {
   "codemirror_mode": {
    "name": "ipython",
    "version": 3
   },
   "file_extension": ".py",
   "mimetype": "text/x-python",
   "name": "python",
   "nbconvert_exporter": "python",
   "pygments_lexer": "ipython3",
   "version": "3.6.1"
  }
 },
 "nbformat": 4,
 "nbformat_minor": 2
}
