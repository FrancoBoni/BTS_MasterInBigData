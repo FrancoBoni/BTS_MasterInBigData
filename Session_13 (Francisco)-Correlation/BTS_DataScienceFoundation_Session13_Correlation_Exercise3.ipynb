{
 "cells": [
  {
   "cell_type": "markdown",
   "metadata": {},
   "source": [
    "# Subject: Data Science Foundation\n",
    "\n",
    "## Session 13 - Correlation in Python.\n",
    "\n",
    "### Exercise 3 -  Calculating Correlation in Pandas\n"
   ]
  },
  {
   "cell_type": "markdown",
   "metadata": {},
   "source": [
    "We will be using a dataset \"Iris\". Calculate the Pearson correlation of sepal length in cm, sepal width in cm, petal length in cm and petal width in cm."
   ]
  },
  {
   "cell_type": "code",
   "execution_count": 11,
   "metadata": {
    "collapsed": true,
    "scrolled": false
   },
   "outputs": [],
   "source": [
    "import pandas as pd\n",
    "import numpy as np\n",
    "from sklearn import datasets, linear_model\n",
    "import seaborn as sns\n",
    "import matplotlib.pyplot as plt\n",
    "%matplotlib inline\n",
    "iris = datasets.load_iris()"
   ]
  },
  {
   "cell_type": "code",
   "execution_count": 2,
   "metadata": {
    "scrolled": true
   },
   "outputs": [
    {
     "name": "stdout",
     "output_type": "stream",
     "text": [
      "Iris Plants Database\n",
      "====================\n",
      "\n",
      "Notes\n",
      "-----\n",
      "Data Set Characteristics:\n",
      "    :Number of Instances: 150 (50 in each of three classes)\n",
      "    :Number of Attributes: 4 numeric, predictive attributes and the class\n",
      "    :Attribute Information:\n",
      "        - sepal length in cm\n",
      "        - sepal width in cm\n",
      "        - petal length in cm\n",
      "        - petal width in cm\n",
      "        - class:\n",
      "                - Iris-Setosa\n",
      "                - Iris-Versicolour\n",
      "                - Iris-Virginica\n",
      "    :Summary Statistics:\n",
      "\n",
      "    ============== ==== ==== ======= ===== ====================\n",
      "                    Min  Max   Mean    SD   Class Correlation\n",
      "    ============== ==== ==== ======= ===== ====================\n",
      "    sepal length:   4.3  7.9   5.84   0.83    0.7826\n",
      "    sepal width:    2.0  4.4   3.05   0.43   -0.4194\n",
      "    petal length:   1.0  6.9   3.76   1.76    0.9490  (high!)\n",
      "    petal width:    0.1  2.5   1.20  0.76     0.9565  (high!)\n",
      "    ============== ==== ==== ======= ===== ====================\n",
      "\n",
      "    :Missing Attribute Values: None\n",
      "    :Class Distribution: 33.3% for each of 3 classes.\n",
      "    :Creator: R.A. Fisher\n",
      "    :Donor: Michael Marshall (MARSHALL%PLU@io.arc.nasa.gov)\n",
      "    :Date: July, 1988\n",
      "\n",
      "This is a copy of UCI ML iris datasets.\n",
      "http://archive.ics.uci.edu/ml/datasets/Iris\n",
      "\n",
      "The famous Iris database, first used by Sir R.A Fisher\n",
      "\n",
      "This is perhaps the best known database to be found in the\n",
      "pattern recognition literature.  Fisher's paper is a classic in the field and\n",
      "is referenced frequently to this day.  (See Duda & Hart, for example.)  The\n",
      "data set contains 3 classes of 50 instances each, where each class refers to a\n",
      "type of iris plant.  One class is linearly separable from the other 2; the\n",
      "latter are NOT linearly separable from each other.\n",
      "\n",
      "References\n",
      "----------\n",
      "   - Fisher,R.A. \"The use of multiple measurements in taxonomic problems\"\n",
      "     Annual Eugenics, 7, Part II, 179-188 (1936); also in \"Contributions to\n",
      "     Mathematical Statistics\" (John Wiley, NY, 1950).\n",
      "   - Duda,R.O., & Hart,P.E. (1973) Pattern Classification and Scene Analysis.\n",
      "     (Q327.D83) John Wiley & Sons.  ISBN 0-471-22361-1.  See page 218.\n",
      "   - Dasarathy, B.V. (1980) \"Nosing Around the Neighborhood: A New System\n",
      "     Structure and Classification Rule for Recognition in Partially Exposed\n",
      "     Environments\".  IEEE Transactions on Pattern Analysis and Machine\n",
      "     Intelligence, Vol. PAMI-2, No. 1, 67-71.\n",
      "   - Gates, G.W. (1972) \"The Reduced Nearest Neighbor Rule\".  IEEE Transactions\n",
      "     on Information Theory, May 1972, 431-433.\n",
      "   - See also: 1988 MLC Proceedings, 54-64.  Cheeseman et al\"s AUTOCLASS II\n",
      "     conceptual clustering system finds 3 classes in the data.\n",
      "   - Many, many more ...\n",
      "\n"
     ]
    }
   ],
   "source": [
    "print (iris.DESCR)"
   ]
  },
  {
   "cell_type": "code",
   "execution_count": 3,
   "metadata": {},
   "outputs": [
    {
     "data": {
      "text/html": [
       "<div>\n",
       "<style>\n",
       "    .dataframe thead tr:only-child th {\n",
       "        text-align: right;\n",
       "    }\n",
       "\n",
       "    .dataframe thead th {\n",
       "        text-align: left;\n",
       "    }\n",
       "\n",
       "    .dataframe tbody tr th {\n",
       "        vertical-align: top;\n",
       "    }\n",
       "</style>\n",
       "<table border=\"1\" class=\"dataframe\">\n",
       "  <thead>\n",
       "    <tr style=\"text-align: right;\">\n",
       "      <th></th>\n",
       "      <th>sepal length (cm)</th>\n",
       "      <th>sepal width (cm)</th>\n",
       "      <th>petal length (cm)</th>\n",
       "      <th>petal width (cm)</th>\n",
       "    </tr>\n",
       "  </thead>\n",
       "  <tbody>\n",
       "    <tr>\n",
       "      <th>0</th>\n",
       "      <td>5.1</td>\n",
       "      <td>3.5</td>\n",
       "      <td>1.4</td>\n",
       "      <td>0.2</td>\n",
       "    </tr>\n",
       "    <tr>\n",
       "      <th>1</th>\n",
       "      <td>4.9</td>\n",
       "      <td>3.0</td>\n",
       "      <td>1.4</td>\n",
       "      <td>0.2</td>\n",
       "    </tr>\n",
       "    <tr>\n",
       "      <th>2</th>\n",
       "      <td>4.7</td>\n",
       "      <td>3.2</td>\n",
       "      <td>1.3</td>\n",
       "      <td>0.2</td>\n",
       "    </tr>\n",
       "    <tr>\n",
       "      <th>3</th>\n",
       "      <td>4.6</td>\n",
       "      <td>3.1</td>\n",
       "      <td>1.5</td>\n",
       "      <td>0.2</td>\n",
       "    </tr>\n",
       "    <tr>\n",
       "      <th>4</th>\n",
       "      <td>5.0</td>\n",
       "      <td>3.6</td>\n",
       "      <td>1.4</td>\n",
       "      <td>0.2</td>\n",
       "    </tr>\n",
       "  </tbody>\n",
       "</table>\n",
       "</div>"
      ],
      "text/plain": [
       "   sepal length (cm)  sepal width (cm)  petal length (cm)  petal width (cm)\n",
       "0                5.1               3.5                1.4               0.2\n",
       "1                4.9               3.0                1.4               0.2\n",
       "2                4.7               3.2                1.3               0.2\n",
       "3                4.6               3.1                1.5               0.2\n",
       "4                5.0               3.6                1.4               0.2"
      ]
     },
     "execution_count": 3,
     "metadata": {},
     "output_type": "execute_result"
    }
   ],
   "source": [
    "df_iris = pd.DataFrame(iris.data, columns=iris.feature_names)\n",
    "df_iris.head()"
   ]
  },
  {
   "cell_type": "code",
   "execution_count": 5,
   "metadata": {},
   "outputs": [
    {
     "data": {
      "text/html": [
       "<div>\n",
       "<style>\n",
       "    .dataframe thead tr:only-child th {\n",
       "        text-align: right;\n",
       "    }\n",
       "\n",
       "    .dataframe thead th {\n",
       "        text-align: left;\n",
       "    }\n",
       "\n",
       "    .dataframe tbody tr th {\n",
       "        vertical-align: top;\n",
       "    }\n",
       "</style>\n",
       "<table border=\"1\" class=\"dataframe\">\n",
       "  <thead>\n",
       "    <tr style=\"text-align: right;\">\n",
       "      <th></th>\n",
       "      <th>sepal length (cm)</th>\n",
       "      <th>sepal width (cm)</th>\n",
       "      <th>petal length (cm)</th>\n",
       "      <th>petal width (cm)</th>\n",
       "    </tr>\n",
       "  </thead>\n",
       "  <tbody>\n",
       "    <tr>\n",
       "      <th>sepal length (cm)</th>\n",
       "      <td>1.000000</td>\n",
       "      <td>-0.159457</td>\n",
       "      <td>0.881386</td>\n",
       "      <td>0.834421</td>\n",
       "    </tr>\n",
       "    <tr>\n",
       "      <th>sepal width (cm)</th>\n",
       "      <td>-0.159457</td>\n",
       "      <td>1.000000</td>\n",
       "      <td>-0.303421</td>\n",
       "      <td>-0.277511</td>\n",
       "    </tr>\n",
       "    <tr>\n",
       "      <th>petal length (cm)</th>\n",
       "      <td>0.881386</td>\n",
       "      <td>-0.303421</td>\n",
       "      <td>1.000000</td>\n",
       "      <td>0.936003</td>\n",
       "    </tr>\n",
       "    <tr>\n",
       "      <th>petal width (cm)</th>\n",
       "      <td>0.834421</td>\n",
       "      <td>-0.277511</td>\n",
       "      <td>0.936003</td>\n",
       "      <td>1.000000</td>\n",
       "    </tr>\n",
       "  </tbody>\n",
       "</table>\n",
       "</div>"
      ],
      "text/plain": [
       "                   sepal length (cm)  sepal width (cm)  petal length (cm)  \\\n",
       "sepal length (cm)           1.000000         -0.159457           0.881386   \n",
       "sepal width (cm)           -0.159457          1.000000          -0.303421   \n",
       "petal length (cm)           0.881386         -0.303421           1.000000   \n",
       "petal width (cm)            0.834421         -0.277511           0.936003   \n",
       "\n",
       "                   petal width (cm)  \n",
       "sepal length (cm)          0.834421  \n",
       "sepal width (cm)          -0.277511  \n",
       "petal length (cm)          0.936003  \n",
       "petal width (cm)           1.000000  "
      ]
     },
     "execution_count": 5,
     "metadata": {},
     "output_type": "execute_result"
    }
   ],
   "source": [
    "# pairwise correlation\n",
    "# el drop hace que no se usen esas columnas\n",
    "df_iris.corr(method='spearman')"
   ]
  },
  {
   "cell_type": "code",
   "execution_count": 8,
   "metadata": {},
   "outputs": [
    {
     "data": {
      "text/html": [
       "<style  type=\"text/css\" >\n",
       "    #T_d9875bfe_c865_11e7_abc7_acde48001122row0_col0 {\n",
       "            background-color:  #b40426;\n",
       "        }    #T_d9875bfe_c865_11e7_abc7_acde48001122row0_col1 {\n",
       "            background-color:  #3b4cc0;\n",
       "        }    #T_d9875bfe_c865_11e7_abc7_acde48001122row0_col2 {\n",
       "            background-color:  #da5a49;\n",
       "        }    #T_d9875bfe_c865_11e7_abc7_acde48001122row0_col3 {\n",
       "            background-color:  #e7745b;\n",
       "        }    #T_d9875bfe_c865_11e7_abc7_acde48001122row1_col0 {\n",
       "            background-color:  #82a6fb;\n",
       "        }    #T_d9875bfe_c865_11e7_abc7_acde48001122row1_col1 {\n",
       "            background-color:  #b40426;\n",
       "        }    #T_d9875bfe_c865_11e7_abc7_acde48001122row1_col2 {\n",
       "            background-color:  #3b4cc0;\n",
       "        }    #T_d9875bfe_c865_11e7_abc7_acde48001122row1_col3 {\n",
       "            background-color:  #485fd1;\n",
       "        }    #T_d9875bfe_c865_11e7_abc7_acde48001122row2_col0 {\n",
       "            background-color:  #d44e41;\n",
       "        }    #T_d9875bfe_c865_11e7_abc7_acde48001122row2_col1 {\n",
       "            background-color:  #3b4cc0;\n",
       "        }    #T_d9875bfe_c865_11e7_abc7_acde48001122row2_col2 {\n",
       "            background-color:  #b40426;\n",
       "        }    #T_d9875bfe_c865_11e7_abc7_acde48001122row2_col3 {\n",
       "            background-color:  #bd1f2d;\n",
       "        }    #T_d9875bfe_c865_11e7_abc7_acde48001122row3_col0 {\n",
       "            background-color:  #e0654f;\n",
       "        }    #T_d9875bfe_c865_11e7_abc7_acde48001122row3_col1 {\n",
       "            background-color:  #3b4cc0;\n",
       "        }    #T_d9875bfe_c865_11e7_abc7_acde48001122row3_col2 {\n",
       "            background-color:  #be242e;\n",
       "        }    #T_d9875bfe_c865_11e7_abc7_acde48001122row3_col3 {\n",
       "            background-color:  #b40426;\n",
       "        }</style>  \n",
       "<table id=\"T_d9875bfe_c865_11e7_abc7_acde48001122\" > \n",
       "<thead>    <tr> \n",
       "        <th class=\"blank level0\" ></th> \n",
       "        <th class=\"col_heading level0 col0\" >sepal length (cm)</th> \n",
       "        <th class=\"col_heading level0 col1\" >sepal width (cm)</th> \n",
       "        <th class=\"col_heading level0 col2\" >petal length (cm)</th> \n",
       "        <th class=\"col_heading level0 col3\" >petal width (cm)</th> \n",
       "    </tr></thead> \n",
       "<tbody>    <tr> \n",
       "        <th id=\"T_d9875bfe_c865_11e7_abc7_acde48001122\" class=\"row_heading level0 row0\" >sepal length (cm)</th> \n",
       "        <td id=\"T_d9875bfe_c865_11e7_abc7_acde48001122row0_col0\" class=\"data row0 col0\" >1.0</td> \n",
       "        <td id=\"T_d9875bfe_c865_11e7_abc7_acde48001122row0_col1\" class=\"data row0 col1\" >-0.11</td> \n",
       "        <td id=\"T_d9875bfe_c865_11e7_abc7_acde48001122row0_col2\" class=\"data row0 col2\" >0.87</td> \n",
       "        <td id=\"T_d9875bfe_c865_11e7_abc7_acde48001122row0_col3\" class=\"data row0 col3\" >0.82</td> \n",
       "    </tr>    <tr> \n",
       "        <th id=\"T_d9875bfe_c865_11e7_abc7_acde48001122\" class=\"row_heading level0 row1\" >sepal width (cm)</th> \n",
       "        <td id=\"T_d9875bfe_c865_11e7_abc7_acde48001122row1_col0\" class=\"data row1 col0\" >-0.11</td> \n",
       "        <td id=\"T_d9875bfe_c865_11e7_abc7_acde48001122row1_col1\" class=\"data row1 col1\" >1.0</td> \n",
       "        <td id=\"T_d9875bfe_c865_11e7_abc7_acde48001122row1_col2\" class=\"data row1 col2\" >-0.42</td> \n",
       "        <td id=\"T_d9875bfe_c865_11e7_abc7_acde48001122row1_col3\" class=\"data row1 col3\" >-0.36</td> \n",
       "    </tr>    <tr> \n",
       "        <th id=\"T_d9875bfe_c865_11e7_abc7_acde48001122\" class=\"row_heading level0 row2\" >petal length (cm)</th> \n",
       "        <td id=\"T_d9875bfe_c865_11e7_abc7_acde48001122row2_col0\" class=\"data row2 col0\" >0.87</td> \n",
       "        <td id=\"T_d9875bfe_c865_11e7_abc7_acde48001122row2_col1\" class=\"data row2 col1\" >-0.42</td> \n",
       "        <td id=\"T_d9875bfe_c865_11e7_abc7_acde48001122row2_col2\" class=\"data row2 col2\" >1.0</td> \n",
       "        <td id=\"T_d9875bfe_c865_11e7_abc7_acde48001122row2_col3\" class=\"data row2 col3\" >0.96</td> \n",
       "    </tr>    <tr> \n",
       "        <th id=\"T_d9875bfe_c865_11e7_abc7_acde48001122\" class=\"row_heading level0 row3\" >petal width (cm)</th> \n",
       "        <td id=\"T_d9875bfe_c865_11e7_abc7_acde48001122row3_col0\" class=\"data row3 col0\" >0.82</td> \n",
       "        <td id=\"T_d9875bfe_c865_11e7_abc7_acde48001122row3_col1\" class=\"data row3 col1\" >-0.36</td> \n",
       "        <td id=\"T_d9875bfe_c865_11e7_abc7_acde48001122row3_col2\" class=\"data row3 col2\" >0.96</td> \n",
       "        <td id=\"T_d9875bfe_c865_11e7_abc7_acde48001122row3_col3\" class=\"data row3 col3\" >1.0</td> \n",
       "    </tr></tbody> \n",
       "</table> "
      ],
      "text/plain": [
       "<pandas.io.formats.style.Styler at 0x11c69add8>"
      ]
     },
     "execution_count": 8,
     "metadata": {},
     "output_type": "execute_result"
    }
   ],
   "source": [
    "df_iris.corr(method='pearson').style.format(\"{:.2}\").background_gradient(cmap=plt.get_cmap('coolwarm'), axis=1)"
   ]
  },
  {
   "cell_type": "code",
   "execution_count": 12,
   "metadata": {},
   "outputs": [
    {
     "data": {
      "text/plain": [
       "<matplotlib.axes._subplots.AxesSubplot at 0x11c52dc88>"
      ]
     },
     "execution_count": 12,
     "metadata": {},
     "output_type": "execute_result"
    },
    {
     "data": {
      "image/png": "[encoded data removed]",
      "text/plain": [
       "<matplotlib.figure.Figure at 0x11c6a59b0>"
      ]
     },
     "metadata": {},
     "output_type": "display_data"
    }
   ],
   "source": [
    "# Compute the correlation matrix\n",
    "\n",
    "corr = df_iris.corr(method='pearson')\n",
    "\n",
    "# Generate a mask for the upper triangle\n",
    "mask = np.zeros_like(corr, dtype=np.bool)\n",
    "mask[np.triu_indices_from(mask)] = True\n",
    "\n",
    "# Set up the matplotlib figure\n",
    "f, ax = plt.subplots(figsize=(11, 9))\n",
    "\n",
    "# Generate a custom diverging colormap\n",
    "cmap = sns.diverging_palette(220, 10, as_cmap=True)\n",
    "\n",
    "# Draw the heatmap with the mask and correct aspect ratio\n",
    "sns.heatmap(corr, mask=mask, cmap=cmap, vmax=.3, center=0,\n",
    "            square=True, linewidths=.5, cbar_kws={\"shrink\": .5})"
   ]
  },
  {
   "cell_type": "markdown",
   "metadata": {},
   "source": [
    "# Conclusion: "
   ]
  },
  {
   "cell_type": "markdown",
   "metadata": {},
   "source": [
    "There is an extremely high correlation between all variables with the exaption of the sepal width, which has no correlation at all with the other characteristics."
   ]
  }
 ],
 "metadata": {
  "kernelspec": {
   "display_name": "Python 3",
   "language": "python",
   "name": "python3"
  },
  "language_info": {
   "codemirror_mode": {
    "name": "ipython",
    "version": 3
   },
   "file_extension": ".py",
   "mimetype": "text/x-python",
   "name": "python",
   "nbconvert_exporter": "python",
   "pygments_lexer": "ipython3",
   "version": "3.6.1"
  }
 },
 "nbformat": 4,
 "nbformat_minor": 2
}
