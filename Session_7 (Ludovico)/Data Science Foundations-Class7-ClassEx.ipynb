{
 "cells": [
  {
   "cell_type": "code",
   "execution_count": 1,
   "metadata": {
    "collapsed": true
   },
   "outputs": [],
   "source": [
    "from nltk import word_tokenize, pos_tag, ne_chunk\n",
    "from nltk import *\n",
    "from nltk.corpus import stopwords\n",
    "from sklearn.feature_extraction.text import TfidfVectorizer\n",
    "import math\n",
    "import string"
   ]
  },
  {
   "cell_type": "code",
   "execution_count": 2,
   "metadata": {
    "collapsed": true
   },
   "outputs": [],
   "source": [
    "def cosine_similarity(vector1, vector2):\n",
    "    dot_product = sum(p*q for p,q in zip(vector1, vector2))\n",
    "    magnitude = math.sqrt(sum([val**2 for val in vector1])) * math.sqrt(sum([val**2 for val in vector2]))\n",
    "    if not magnitude:\n",
    "        return 0\n",
    "    return dot_product/magnitude"
   ]
  },
  {
   "cell_type": "code",
   "execution_count": 3,
   "metadata": {},
   "outputs": [],
   "source": [
    "tokenize = lambda doc: doc.lower().split(\" \")\n",
    "\n",
    "f_f = \"Los Angeles street racer Dominic Toretto falls under the suspicion of the LAPD as a string of high-speed electronics truck robberies rocks the area. Brian O'Connor, an officer of the LAPD, joins the ranks of Toretto's highly skilled racing crew undercover to convict Toretto. However, O'Connor finds himself both enamored with this new world and in love with Toretto's sister, Mia. As a rival racing crew gains strength, O'Connor must decide where his loyalty really lies.\"\n",
    "xxx = \"Xander 'XXX' Cage is a thrill seeker who until now has been deemed untouchable by the law. NSA Agent Gibbons forces XXX to cooperate with the government to infiltrate an underground Russian crime ring, and avoid going to prison. Gibbons sends XXX to enter this world of crime undetected where others have failed, using his natural athletic prowess and a whole lot of attitude. Xander must combat an organization led by a clever, ruthless and nihilistic Yorgi whose first target is the city of Prague.\"\n",
    "g_g = \"After stealing a mysterious orb in the far reaches of outer space, Peter Quill from Earth, is now the main target of a manhunt led by the villain known as Ronan the Accuser. To help fight Ronan and his team and save the galaxy from his power, Quill creates a team of space heroes known as the 'Guardians of the Galaxy' to save the world.\"\n",
    "rid = \"The infamous Riddick has been left for dead on a sun-scorched planet that appears to be lifeless. Soon, however, he finds himself fighting for survival against alien predators more lethal than any human he's encountered. The only way off is for Riddick to activate an emergency beacon and alert mercenaries who rapidly descend to the planet in search of their bounty. The first ship to arrive carries a new breed of merc, more lethal and violent, while the second is captained by a man whose pursuit of Riddick is more personal. With time running out and a storm on the horizon that no one could survive, his hunters won't leave the planet without Riddick's head as their trophy.\"\n",
    "cang = \"After a Navy SEAL fails to rescue a scientist who developed a top secret device, he is assigned to guard the man's children while searching for information on where the device may be hidden inside the house. Along the way, he must cope with rebellious teens, child care, an overbearing school official, and foreign spies also looking for it.\"\n",
    "adc = \"The four sons (Diesel, Green, Pepper, Davoli) of major Brooklyn mobsters have to team up to retrieve a bag of cash in a small Montana town ruled by a corrupt sheriff. Specifically, the story gets started when Matt Demaret (Pepper) goes on a job to deliver the money for his mob father (Hopper) on the advice of his uncle (Malkovich). Things don't go as planned though...\"\n",
    "IG = \"This is the story of a nine-year-old boy named Hogarth Hughes who makes friends with an innocent alien giant robot that came from outer space. Meanwhile, a paranoid U.S. Government agent named Kent Mansley arrives in town, determined to destroy the giant at all costs. It's up to Hogarth to protect him by keeping him at Dean McCoppin's place in the junkyard.\"\n",
    "\n",
    "vd_movies = [f_f, xxx, g_g, rid, cang, adc, IG]\n",
    "tokenized_vd_movies = [word_tokenize(d) for d in vd_movies]\n",
    "all_tokens_set = set([item for sublist in tokenized_vd_movies for item in sublist])\n",
    "\n",
    "sklearn_tfidf = TfidfVectorizer(norm='l2', min_df=0, use_idf=True, smooth_idf=False, sublinear_tf=True, tokenizer=tokenize)\n",
    "\n",
    "sklearn_representation = sklearn_tfidf.fit_transform(vd_movies)"
   ]
  },
  {
   "cell_type": "code",
   "execution_count": 20,
   "metadata": {},
   "outputs": [
    {
     "data": {
      "text/plain": [
       "0.12092971957599619"
      ]
     },
     "execution_count": 20,
     "metadata": {},
     "output_type": "execute_result"
    }
   ],
   "source": [
    "cosine_similarity(sklearn_representation.toarray()[4].tolist(), sklearn_representation.toarray()[3].tolist())"
   ]
  },
  {
   "cell_type": "code",
   "execution_count": null,
   "metadata": {},
   "outputs": [],
   "source": []
  },
  {
   "cell_type": "code",
   "execution_count": null,
   "metadata": {
    "collapsed": true
   },
   "outputs": [],
   "source": []
  }
 ],
 "metadata": {
  "kernelspec": {
   "display_name": "Python 3",
   "language": "python",
   "name": "python3"
  },
  "language_info": {
   "codemirror_mode": {
    "name": "ipython",
    "version": 3
   },
   "file_extension": ".py",
   "mimetype": "text/x-python",
   "name": "python",
   "nbconvert_exporter": "python",
   "pygments_lexer": "ipython3",
   "version": "3.6.1"
  }
 },
 "nbformat": 4,
 "nbformat_minor": 2
}
