{
 "cells": [
  {
   "cell_type": "code",
   "execution_count": 5,
   "metadata": {
    "collapsed": true
   },
   "outputs": [],
   "source": [
    "import pandas as pd"
   ]
  },
  {
   "cell_type": "code",
   "execution_count": 9,
   "metadata": {},
   "outputs": [],
   "source": [
    "df = pd.read_csv(\"rural_population_data.csv\")"
   ]
  },
  {
   "cell_type": "code",
   "execution_count": 10,
   "metadata": {},
   "outputs": [
    {
     "data": {
      "text/html": [
       "<div>\n",
       "<style>\n",
       "    .dataframe thead tr:only-child th {\n",
       "        text-align: right;\n",
       "    }\n",
       "\n",
       "    .dataframe thead th {\n",
       "        text-align: left;\n",
       "    }\n",
       "\n",
       "    .dataframe tbody tr th {\n",
       "        vertical-align: top;\n",
       "    }\n",
       "</style>\n",
       "<table border=\"1\" class=\"dataframe\">\n",
       "  <thead>\n",
       "    <tr style=\"text-align: right;\">\n",
       "      <th></th>\n",
       "      <th>Continent</th>\n",
       "      <th>ElevationZone</th>\n",
       "      <th>UrbanRuralDesignation</th>\n",
       "      <th>Population1990</th>\n",
       "      <th>Population2000</th>\n",
       "      <th>Population2010</th>\n",
       "      <th>Population2100</th>\n",
       "      <th>LandArea</th>\n",
       "    </tr>\n",
       "  </thead>\n",
       "  <tbody>\n",
       "    <tr>\n",
       "      <th>0</th>\n",
       "      <td>Africa</td>\n",
       "      <td>Elevations &gt; 20m or Non-Contiguous</td>\n",
       "      <td>Rural</td>\n",
       "      <td>333302081</td>\n",
       "      <td>418265923</td>\n",
       "      <td>530184094</td>\n",
       "      <td>1249908321</td>\n",
       "      <td>23749644</td>\n",
       "    </tr>\n",
       "    <tr>\n",
       "      <th>1</th>\n",
       "      <td>Africa</td>\n",
       "      <td>Elevations &gt; 20m or Non-Contiguous</td>\n",
       "      <td>Urban</td>\n",
       "      <td>157846329</td>\n",
       "      <td>210381843</td>\n",
       "      <td>266776037</td>\n",
       "      <td>504662423</td>\n",
       "      <td>204719</td>\n",
       "    </tr>\n",
       "    <tr>\n",
       "      <th>2</th>\n",
       "      <td>Africa</td>\n",
       "      <td>Elevations Less Than or Equal To 10m</td>\n",
       "      <td>Rural</td>\n",
       "      <td>18167003</td>\n",
       "      <td>22569516</td>\n",
       "      <td>28154645</td>\n",
       "      <td>76368900</td>\n",
       "      <td>172460</td>\n",
       "    </tr>\n",
       "    <tr>\n",
       "      <th>3</th>\n",
       "      <td>Africa</td>\n",
       "      <td>Elevations Less Than or Equal To 10m</td>\n",
       "      <td>Urban</td>\n",
       "      <td>22412955</td>\n",
       "      <td>28679117</td>\n",
       "      <td>36746774</td>\n",
       "      <td>94042536</td>\n",
       "      <td>13838</td>\n",
       "    </tr>\n",
       "    <tr>\n",
       "      <th>4</th>\n",
       "      <td>Africa</td>\n",
       "      <td>Elevations Less Than or Equal To 12m</td>\n",
       "      <td>Rural</td>\n",
       "      <td>20569411</td>\n",
       "      <td>25576481</td>\n",
       "      <td>31957186</td>\n",
       "      <td>85839163</td>\n",
       "      <td>202456</td>\n",
       "    </tr>\n",
       "  </tbody>\n",
       "</table>\n",
       "</div>"
      ],
      "text/plain": [
       "  Continent                          ElevationZone UrbanRuralDesignation  \\\n",
       "0    Africa    Elevations > 20m or Non-Contiguous                  Rural   \n",
       "1    Africa    Elevations > 20m or Non-Contiguous                  Urban   \n",
       "2    Africa  Elevations Less Than or Equal To 10m                  Rural   \n",
       "3    Africa  Elevations Less Than or Equal To 10m                  Urban   \n",
       "4    Africa  Elevations Less Than or Equal To 12m                  Rural   \n",
       "\n",
       "   Population1990  Population2000  Population2010  Population2100  LandArea  \n",
       "0       333302081       418265923       530184094      1249908321  23749644  \n",
       "1       157846329       210381843       266776037       504662423    204719  \n",
       "2        18167003        22569516        28154645        76368900    172460  \n",
       "3        22412955        28679117        36746774        94042536     13838  \n",
       "4        20569411        25576481        31957186        85839163    202456  "
      ]
     },
     "execution_count": 10,
     "metadata": {},
     "output_type": "execute_result"
    }
   ],
   "source": [
    "df.head()"
   ]
  },
  {
   "cell_type": "code",
   "execution_count": 11,
   "metadata": {},
   "outputs": [
    {
     "data": {
      "text/plain": [
       "(120, 8)"
      ]
     },
     "execution_count": 11,
     "metadata": {},
     "output_type": "execute_result"
    }
   ],
   "source": [
    "df.shape"
   ]
  },
  {
   "cell_type": "code",
   "execution_count": 13,
   "metadata": {},
   "outputs": [
    {
     "data": {
      "text/plain": [
       "array(['Africa', 'Asia', 'Oceania', 'Europe', 'North America',\n",
       "       'South America'], dtype=object)"
      ]
     },
     "execution_count": 13,
     "metadata": {},
     "output_type": "execute_result"
    }
   ],
   "source": [
    "df[\"Continent\"].unique()"
   ]
  },
  {
   "cell_type": "code",
   "execution_count": 34,
   "metadata": {},
   "outputs": [],
   "source": [
    "df[\"Growrate\"] = df.apply(lambda row: row[\"Population2100\"] - row[\"Population2000\"] / row[\"Population2000\"], axis=1)"
   ]
  },
  {
   "cell_type": "code",
   "execution_count": 43,
   "metadata": {},
   "outputs": [
    {
     "data": {
      "text/plain": [
       "<matplotlib.axes._subplots.AxesSubplot at 0x118332e10>"
      ]
     },
     "execution_count": 43,
     "metadata": {},
     "output_type": "execute_result"
    }
   ],
   "source": [
    "import matplotlib.pyplot as plt\n",
    "df[\"Growrate\"].hist()"
   ]
  },
  {
   "cell_type": "code",
   "execution_count": 44,
   "metadata": {},
   "outputs": [
    {
     "data": {
      "text/plain": [
       "Continent                0\n",
       "ElevationZone            0\n",
       "UrbanRuralDesignation    0\n",
       "Population1990           0\n",
       "Population2000           0\n",
       "Population2010           0\n",
       "Population2100           0\n",
       "LandArea                 0\n",
       "Growrate                 0\n",
       "dtype: int64"
      ]
     },
     "execution_count": 44,
     "metadata": {},
     "output_type": "execute_result"
    }
   ],
   "source": [
    "df.isnull().sum()"
   ]
  },
  {
   "cell_type": "code",
   "execution_count": 67,
   "metadata": {},
   "outputs": [
    {
     "data": {
      "text/plain": [
       "128618905"
      ]
     },
     "execution_count": 67,
     "metadata": {},
     "output_type": "execute_result"
    }
   ],
   "source": [
    "ap2010 = df[\"Population2010\"].mean()\n",
    "ap2000 = df[\"Population2000\"].mean()\n",
    "\n",
    "av00_10 = (ap2010+ap2000)/2\n",
    "round(av00_10)"
   ]
  },
  {
   "cell_type": "code",
   "execution_count": 75,
   "metadata": {},
   "outputs": [
    {
     "data": {
      "text/plain": [
       "60"
      ]
     },
     "execution_count": 75,
     "metadata": {},
     "output_type": "execute_result"
    }
   ],
   "source": [
    "urd = df.loc[:,\"UrbanRuralDesignation\"]\n",
    "\n",
    "urban = 0\n",
    "\n",
    "for i in urd:\n",
    "    if i == \"Urban\":\n",
    "        urban += 1\n",
    "        \n",
    "urban"
   ]
  }
 ],
 "metadata": {
  "kernelspec": {
   "display_name": "Python 3",
   "language": "python",
   "name": "python3"
  },
  "language_info": {
   "codemirror_mode": {
    "name": "ipython",
    "version": 3
   },
   "file_extension": ".py",
   "mimetype": "text/x-python",
   "name": "python",
   "nbconvert_exporter": "python",
   "pygments_lexer": "ipython3",
   "version": "3.6.1"
  }
 },
 "nbformat": 4,
 "nbformat_minor": 2
}
